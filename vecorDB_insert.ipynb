{
 "cells": [
  {
   "cell_type": "code",
   "execution_count": null,
   "id": "841e0ce6",
   "metadata": {},
   "outputs": [],
   "source": [
    "\"\"\"\n",
    "Pinecone에 RAG 데이터 업로드 \n",
    "- 입력: data/rag_marketing_data.csv\n",
    "- 출력: Pinecone index (\"bigcon\")에 임베딩 벡터 삽입\n",
    "\"\"\"\n",
    "\n",
    "import os\n",
    "import pandas as pd\n",
    "from langchain_google_genai import GoogleGenerativeAIEmbeddings\n",
    "from langchain_pinecone import PineconeVectorStore\n",
    "from dotenv import load_dotenv\n",
    "from pinecone import Pinecone, ServerlessSpec\n",
    "\n",
    "# .env 파일에서 API 키 불러오기\n",
    "load_dotenv()\n",
    "\n",
    "PINECONE_API_KEY = os.getenv(\"PINECONE_API_KEY\",\"API_KEY\")\n",
    "PINECONE_ENV = os.getenv(\"PINECONE_ENVIRONMENT\", \"us-east-1\")  # 환경값은 콘솔에서 확인\n",
    "INDEX_NAME = os.getenv(\"PINECONE_INDEX_NAME\", \"bigcon\")\n",
    "\n",
    "if not PINECONE_API_KEY:\n",
    "    raise ValueError(\"PINECONE_API_KEY 환경 변수가 설정되지 않았습니다.\")"
   ]
  },
  {
   "cell_type": "code",
   "execution_count": 21,
   "id": "acef798a",
   "metadata": {},
   "outputs": [
    {
     "name": "stdout",
     "output_type": "stream",
     "text": [
      "✅ CSV 로드 완료: 7 rows\n"
     ]
    }
   ],
   "source": [
    "# 1. CSV 로드\n",
    "df = pd.read_csv(r\"C:\\Users\\rladl\\Desktop\\bigcontest_2025\\2025_shcard_bigcontest\\data\\rag_marketing_data.csv\")\n",
    "\n",
    "print(f\"✅ CSV 로드 완료: {len(df)} rows\")"
   ]
  },
  {
   "cell_type": "code",
   "execution_count": 34,
   "id": "83e7dcb0",
   "metadata": {},
   "outputs": [
    {
     "name": "stdout",
     "output_type": "stream",
     "text": [
      "✅ Pinecone 클라이언트 초기화 완료\n",
      "📋 기존 인덱스: ['boazadv', 'boazadvproject', 'bigcon']\n",
      "\n",
      "📊 'my-index' 인덱스 정보:\n",
      "   - 총 벡터 수: 0\n",
      "   - 차원 수: 768\n",
      "   - 인덱스 사용률: 0.00%\n"
     ]
    }
   ],
   "source": [
    "# 2. Pinecone 초기화\n",
    "\n",
    "# Pinecone 클라이언트 초기화 \n",
    "pc = Pinecone(api_key=PINECONE_API_KEY)\n",
    "print(\"✅ Pinecone 클라이언트 초기화 완료\")\n",
    "\n",
    "# 기존 인덱스 확인\n",
    "existing_indexes = pc.list_indexes().names()\n",
    "print(f\"📋 기존 인덱스: {existing_indexes}\")\n",
    "\n",
    "# # 기존 인덱스 없을 시 - 인덱스 생성 또는 확인\n",
    "# if INDEX_NAME not in pc.list_indexes().names():\n",
    "#     pc.create_index(\n",
    "#         name=INDEX_NAME,\n",
    "#         dimension=1024,\n",
    "#         metric='cosine',\n",
    "#         spec=ServerlessSpec(\n",
    "#             cloud='aws',\n",
    "#             region='us-east-1'\n",
    "#         )\n",
    "#     )\n",
    "#     print(f\"📦 새 Pinecone 인덱스 생성: {INDEX_NAME}\")\n",
    "# else:\n",
    "#     print(f\"✅ '{INDEX_NAME}' 인덱스가 이미 존재합니다\")\n",
    "\n",
    "# 새 인덱스 만들기\n",
    "INDEX_NAME=\"my-index\"\n",
    "\n",
    "pc.create_index(\n",
    "    name=INDEX_NAME,\n",
    "    dimension=768,\n",
    "    metric=\"cosine\",\n",
    "    spec=ServerlessSpec(\n",
    "        cloud=\"aws\",\n",
    "        region=\"us-east-1\"\n",
    "    )\n",
    ")\n",
    "\n",
    "\n",
    "# 6. 인덱스 연결 및 상태 확인\n",
    "index = pc.Index(INDEX_NAME)\n",
    "stats = index.describe_index_stats()\n",
    "\n",
    "print(f\"\\n📊 '{INDEX_NAME}' 인덱스 정보:\")\n",
    "print(f\"   - 총 벡터 수: {stats.get('total_vector_count', 0):,}\")\n",
    "print(f\"   - 차원 수: {stats.get('dimension', 'N/A')}\")\n",
    "print(f\"   - 인덱스 사용률: {stats.get('index_fullness', 0)*100:.2f}%\")"
   ]
  },
  {
   "cell_type": "code",
   "execution_count": 35,
   "id": "b7f23b94",
   "metadata": {},
   "outputs": [
    {
     "name": "stdout",
     "output_type": "stream",
     "text": [
      "✅ HuggingFaceEmbeddings 초기화 완료\n"
     ]
    }
   ],
   "source": [
    "# 4. 임베딩 모델 초기화\n",
    "\n",
    "\n",
    "# [사용X] Google - 유료\n",
    "# import google.generativeai as genai\n",
    "\n",
    "# # 환경 변수 설정\n",
    "# GOOGLE_API_KEY = os.environ[\"GOOGLE_API_KEY\"] # 환경 변수에서 불러오기\n",
    "\n",
    "# # Google AI 설정\n",
    "# genai.configure(api_key=GOOGLE_API_KEY)\n",
    "\n",
    "# # 임베딩 모델 초기화\n",
    "# embeddings = GoogleGenerativeAIEmbeddings(\n",
    "#     model=\"models/embedding-001\",\n",
    "#     google_api_key=GOOGLE_API_KEY  # 직접 전달\n",
    "# )\n",
    "\n",
    "# print(\"✅ GoogleGenerativeAIEmbeddings 초기화 완료\")\n",
    "\n",
    "\n",
    "# [사용O] HuggingFace - 무료\n",
    "\n",
    "from langchain_community.embeddings import HuggingFaceEmbeddings\n",
    "\n",
    "# 예시: all-MiniLM-L6-v2 (무료, 384차원)\n",
    "embeddings = HuggingFaceEmbeddings(model_name=\"jhgan/ko-sroberta-multitask\")\n",
    "print(\"✅ HuggingFaceEmbeddings 초기화 완료\")"
   ]
  },
  {
   "cell_type": "code",
   "execution_count": 36,
   "id": "bf9220e3",
   "metadata": {},
   "outputs": [
    {
     "name": "stdout",
     "output_type": "stream",
     "text": [
      "📄 준비된 문서 수: 7개\n",
      "📋 메타데이터 컬럼: ['id', 'category', 'title', 'content', 'source']\n"
     ]
    }
   ],
   "source": [
    "# 5. 저장할 데이터 로드 - 텍스트와 메타데이터 준비\n",
    "# 현재 코드에는 따로 텍스트 분할 과정 X => 필요시 text_splitter 사용\n",
    "\n",
    "texts = df[\"content\"].tolist()\n",
    "metadatas = df.to_dict(orient=\"records\")\n",
    "\n",
    "print(f\"📄 준비된 문서 수: {len(texts)}개\")\n",
    "print(f\"📋 메타데이터 컬럼: {df.columns.tolist()}\")"
   ]
  },
  {
   "cell_type": "code",
   "execution_count": 40,
   "id": "9ac7eb51",
   "metadata": {},
   "outputs": [
    {
     "name": "stdout",
     "output_type": "stream",
     "text": [
      "🚀 Pinecone 인덱싱 시작...\n",
      "✅ 업로드 완료! 총 7개 문서가 Pinecone 인덱스에 저장되었습니다.\n",
      "\n",
      "📊 업로드 후 인덱스 상태:\n",
      "   - 총 벡터 수: 0\n",
      "   - 차원 수: 768\n",
      "   - 인덱스 사용률: 0.00%\n"
     ]
    }
   ],
   "source": [
    "# 6. Pinecone VectorStore 생성 및 데이터 업로드\n",
    "\n",
    "print(\"🚀 Pinecone 인덱싱 시작...\")\n",
    "vectorstore = PineconeVectorStore.from_texts(\n",
    "    texts=texts,\n",
    "    embedding=embeddings,\n",
    "    metadatas=metadatas,\n",
    "    index_name=INDEX_NAME\n",
    ")\n",
    "\n",
    "print(f\"✅ 업로드 완료! 총 {len(texts)}개 문서가 Pinecone 인덱스에 저장되었습니다.\")\n",
    "\n",
    "\n",
    "# 9. 업로드 결과 확인\n",
    "index = pc.Index(INDEX_NAME)\n",
    "stats = index.describe_index_stats()\n",
    "\n",
    "print(f\"\\n📊 업로드 후 인덱스 상태:\")\n",
    "print(f\"   - 총 벡터 수: {stats.get('total_vector_count', 0):,}\")\n",
    "print(f\"   - 차원 수: {stats.get('dimension', 'N/A')}\")\n",
    "print(f\"   - 인덱스 사용률: {stats.get('index_fullness', 0)*100:.2f}%\")"
   ]
  },
  {
   "cell_type": "code",
   "execution_count": 44,
   "id": "3d3a62b5",
   "metadata": {},
   "outputs": [
    {
     "name": "stdout",
     "output_type": "stream",
     "text": [
      "\n",
      "🔍 테스트 검색 결과: 3개 문서\n",
      "   1. 대학생 상권 분식집은 인스타그램 챌린지를 통해 고객이 음식 사진을 업로드하면 무료 음료를 제공했다. 참여 게시물 1,000건 이상 기록하며 신규 고객 유입에 성공했다....\n",
      "   2. 대학생 상권 분식집은 인스타그램 챌린지를 통해 고객이 음식 사진을 업로드하면 무료 음료를 제공했다. 참여 게시물 1,000건 이상 기록하며 신규 고객 유입에 성공했다....\n"
     ]
    }
   ],
   "source": [
    "# 10. 업로드 테스트 (간단한 검색)\n",
    "if vectorstore:\n",
    "    retriever = vectorstore.as_retriever(search_kwargs={\"k\": 3})\n",
    "    test_docs = retriever.get_relevant_documents(\"치킨집 홍보 방법\")\n",
    "    \n",
    "    print(f\"\\n🔍 테스트 검색 결과: {len(test_docs)}개 문서\")\n",
    "    for i, doc in enumerate(test_docs[:2]):  # 처음 2개만 출력\n",
    "        print(f\"   {i+1}. {doc.page_content[:100]}...\")"
   ]
  },
  {
   "cell_type": "markdown",
   "id": "7ec8e270",
   "metadata": {},
   "source": [
    "- 6-1. 대용량 데이터 저장 시 사용"
   ]
  },
  {
   "cell_type": "code",
   "execution_count": null,
   "id": "dcdca1b4",
   "metadata": {},
   "outputs": [],
   "source": [
    "# 6-1. 배치 처리를 위한 함수 (대용량 데이터 처리용)\n",
    "# def upload_texts_in_batches(texts, metadatas, embeddings, index_name, batch_size=100):\n",
    "#     \"\"\"대용량 데이터를 배치 단위로 업로드\"\"\"\n",
    "    \n",
    "#     vectorstore = None\n",
    "#     total_batches = (len(texts) + batch_size - 1) // batch_size\n",
    "    \n",
    "#     for i in range(0, len(texts), batch_size):\n",
    "#         batch_texts = texts[i:i+batch_size]\n",
    "#         batch_metadatas = metadatas[i:i+batch_size]\n",
    "        \n",
    "#         current_batch = (i // batch_size) + 1\n",
    "#         print(f\"🔄 배치 {current_batch}/{total_batches} 처리 중... ({len(batch_texts)}개 문서)\")\n",
    "        \n",
    "#         if vectorstore is None:\n",
    "#             # 첫 번째 배치로 vectorstore 생성\n",
    "#             vectorstore = PineconeVectorStore.from_texts(\n",
    "#                 texts=batch_texts,\n",
    "#                 embedding=embeddings,\n",
    "#                 metadatas=batch_metadatas,\n",
    "#                 index_name=index_name\n",
    "#             )\n",
    "#         else:\n",
    "#             # 기존 vectorstore에 추가\n",
    "#             vectorstore.add_texts(\n",
    "#                 texts=batch_texts,\n",
    "#                 metadatas=batch_metadatas\n",
    "#             )\n",
    "        \n",
    "#         print(f\"✅ 배치 {current_batch} 완료\")\n",
    "    \n",
    "#     return vectorstore\n",
    "\n",
    "# # 8. 데이터 크기에 따른 업로드 방식 선택\n",
    "# if len(texts) <= 100:\n",
    "#     # 소량 데이터: 한 번에 업로드\n",
    "#     print(\"🚀 Pinecone 인덱싱 시작 (소량 데이터)...\")\n",
    "    \n",
    "#     vectorstore = PineconeVectorStore.from_texts(\n",
    "#         texts=texts,\n",
    "#         embedding=embeddings,\n",
    "#         metadatas=metadatas,\n",
    "#         index_name=INDEX_NAME\n",
    "#     )\n",
    "    \n",
    "#     print(f\"✅ 업로드 완료! 총 {len(texts)}개 문서가 Pinecone 인덱스에 저장되었습니다.\")\n",
    "    \n",
    "# else:\n",
    "#     # 대량 데이터: 배치 처리\n",
    "#     print(\"🚀 Pinecone 인덱싱 시작 (대량 데이터 - 배치 처리)...\")\n",
    "    \n",
    "#     vectorstore = upload_texts_in_batches(\n",
    "#         texts=texts,\n",
    "#         metadatas=metadatas,\n",
    "#         embeddings=embeddings,\n",
    "#         index_name=INDEX_NAME,\n",
    "#         batch_size=100\n",
    "#     )\n",
    "    \n",
    "#     print(f\"✅ 배치 업로드 완료! 총 {len(texts)}개 문서가 Pinecone 인덱스에 저장되었습니다.\")\n",
    "\n",
    "\n",
    "# # 9. 업로드 결과 확인\n",
    "# index = pc.Index(INDEX_NAME)\n",
    "# stats = index.describe_index_stats()\n",
    "\n",
    "# print(f\"\\n📊 업로드 후 인덱스 상태:\")\n",
    "# print(f\"   - 총 벡터 수: {stats.get('total_vector_count', 0):,}\")\n",
    "# print(f\"   - 차원 수: {stats.get('dimension', 'N/A')}\")\n",
    "# print(f\"   - 인덱스 사용률: {stats.get('index_fullness', 0)*100:.2f}%\")\n",
    "\n",
    "# # 10. 업로드 테스트 (간단한 검색)\n",
    "# if vectorstore:\n",
    "#     retriever = vectorstore.as_retriever(search_kwargs={\"k\": 3})\n",
    "#     test_docs = retriever.get_relevant_documents(\"테스트 검색\")\n",
    "    \n",
    "#     print(f\"\\n🔍 테스트 검색 결과: {len(test_docs)}개 문서\")\n",
    "#     for i, doc in enumerate(test_docs[:2]):  # 처음 2개만 출력\n",
    "#         print(f\"   {i+1}. {doc.page_content[:100]}...\")\n"
   ]
  }
 ],
 "metadata": {
  "kernelspec": {
   "display_name": "bigcon",
   "language": "python",
   "name": "python3"
  },
  "language_info": {
   "codemirror_mode": {
    "name": "ipython",
    "version": 3
   },
   "file_extension": ".py",
   "mimetype": "text/x-python",
   "name": "python",
   "nbconvert_exporter": "python",
   "pygments_lexer": "ipython3",
   "version": "3.10.18"
  }
 },
 "nbformat": 4,
 "nbformat_minor": 5
}
