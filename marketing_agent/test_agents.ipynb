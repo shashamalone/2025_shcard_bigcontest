{
 "cells": [
  {
   "cell_type": "markdown",
   "metadata": {},
   "source": [
    "# 마케팅 Multi-Agent 시스템 테스트\n",
    "\n",
    "각 Agent의 출력을 단계별로 테스트합니다."
   ]
  },
  {
   "cell_type": "markdown",
   "metadata": {},
   "source": [
    "## 1. 환경 설정"
   ]
  },
  {
   "cell_type": "code",
   "execution_count": 1,
   "metadata": {},
   "outputs": [
    {
     "name": "stdout",
     "output_type": "stream",
     "text": [
      "✅ 환경 설정 완료\n"
     ]
    }
   ],
   "source": [
    "import sys\n",
    "import os\n",
    "from datetime import datetime, timedelta\n",
    "from pprint import pprint\n",
    "import json\n",
    "\n",
    "# 프로젝트 루트 경로 추가\n",
    "if os.path.abspath('.') not in sys.path:\n",
    "    sys.path.insert(0, os.path.abspath('.'))\n",
    "\n",
    "# 환경 변수 로드\n",
    "from dotenv import load_dotenv\n",
    "load_dotenv()\n",
    "\n",
    "print(\"✅ 환경 설정 완료\")"
   ]
  },
  {
   "cell_type": "markdown",
   "metadata": {},
   "source": [
    "## 2. Import"
   ]
  },
  {
   "cell_type": "code",
   "execution_count": 2,
   "metadata": {},
   "outputs": [
    {
     "name": "stderr",
     "output_type": "stream",
     "text": [
      "\u001b[32m2025-10-14 10:29:34.137\u001b[0m | \u001b[33m\u001b[1mWARNING \u001b[0m | \u001b[36mtools.rag_tool\u001b[0m:\u001b[36m<module>\u001b[0m:\u001b[36m13\u001b[0m - \u001b[33m\u001b[1mPinecone 또는 sentence_transformers 미설치\u001b[0m\n",
      "\u001b[32m2025-10-14 10:29:34.698\u001b[0m | \u001b[33m\u001b[1mWARNING \u001b[0m | \u001b[36mtools.store_search_tool\u001b[0m:\u001b[36m<module>\u001b[0m:\u001b[36m18\u001b[0m - \u001b[33m\u001b[1mFastMCP not available, using mock data\u001b[0m\n"
     ]
    },
    {
     "name": "stdout",
     "output_type": "stream",
     "text": [
      "✅ Agent 모듈 import 완료\n"
     ]
    }
   ],
   "source": [
    "from agents import (\n",
    "    marketing_graph,\n",
    "    store_resolver_node,\n",
    "    strategy_supervisor_node,\n",
    "    context_agent_node,\n",
    "    situation_agent_node,\n",
    "    resource_agent_node,\n",
    "    merge_supervisor_node,\n",
    "    evaluation_agent_node\n",
    ")\n",
    "\n",
    "print(\"✅ Agent 모듈 import 완료\")"
   ]
  },
  {
   "cell_type": "markdown",
   "metadata": {},
   "source": [
    "## 3. 테스트 State 생성"
   ]
  },
  {
   "cell_type": "code",
   "execution_count": 3,
   "metadata": {},
   "outputs": [
    {
     "name": "stdout",
     "output_type": "stream",
     "text": [
      "✅ 테스트 케이스 준비 완료\n",
      "테스트 케이스 수: 3\n"
     ]
    }
   ],
   "source": [
    "def create_test_state(user_query: str, budget_krw: int = 50000, channels: list = None):\n",
    "    \"\"\"테스트용 초기 상태 생성\"\"\"\n",
    "    if channels is None:\n",
    "        channels = [\"kakao\", \"instagram\"]\n",
    "    \n",
    "    return {\n",
    "        \"user_query\": user_query,\n",
    "        \"intent\": \"strategy\",\n",
    "        \"constraints\": {\n",
    "            \"store_id\": \"S123\",\n",
    "            \"start_date\": (datetime.now() - timedelta(days=30)).strftime(\"%Y-%m-%d\"),\n",
    "            \"end_date\": datetime.now().strftime(\"%Y-%m-%d\"),\n",
    "            \"budget_krw\": budget_krw,\n",
    "            \"budget_tier\": \"low\" if budget_krw < 100000 else \"med\",\n",
    "            \"preferred_channels\": channels\n",
    "        },\n",
    "        \"context_json\": None,\n",
    "        \"situation_json\": None,\n",
    "        \"resource_json\": None,\n",
    "        \"strategy_cards\": [],\n",
    "        \"eval_report\": None,\n",
    "        \"batch_eval_result\": None,\n",
    "        \"logs\": []\n",
    "    }\n",
    "\n",
    "# 테스트 케이스\n",
    "test_cases = [\n",
    "    \"평일 점심 매출을 늘리고 싶어. 예산 5만원, 카카오로.\",\n",
    "    \"이번 주 비 온다는데 매출 영향 있을까?\",\n",
    "    \"주말 고객을 평일로 분산시키고 싶어.\"\n",
    "]\n",
    "\n",
    "print(\"✅ 테스트 케이스 준비 완료\")\n",
    "print(f\"테스트 케이스 수: {len(test_cases)}\")"
   ]
  },
  {
   "cell_type": "markdown",
   "metadata": {},
   "source": [
    "## 4. 개별 Agent 테스트"
   ]
  },
  {
   "cell_type": "markdown",
   "metadata": {},
   "source": [
    "### 4.1 Strategy Supervisor (의도 분석)"
   ]
  },
  {
   "cell_type": "code",
   "execution_count": 4,
   "metadata": {},
   "outputs": [
    {
     "name": "stderr",
     "output_type": "stream",
     "text": [
      "\u001b[32m2025-10-14 10:04:40.666\u001b[0m | \u001b[1mINFO    \u001b[0m | \u001b[36magents.strategy_supervisor\u001b[0m:\u001b[36mstrategy_supervisor_node\u001b[0m:\u001b[36m17\u001b[0m - \u001b[1mStrategy Supervisor: 시작\u001b[0m\n",
      "\u001b[32m2025-10-14 10:04:40.667\u001b[0m | \u001b[1mINFO    \u001b[0m | \u001b[36magents.strategy_supervisor\u001b[0m:\u001b[36mstrategy_supervisor_node\u001b[0m:\u001b[36m26\u001b[0m - \u001b[1mIntent detected: strategy\u001b[0m\n"
     ]
    },
    {
     "name": "stdout",
     "output_type": "stream",
     "text": [
      "============================================================\n",
      "Strategy Supervisor 테스트\n",
      "============================================================\n",
      "\n",
      "질문: 평일 점심 매출을 늘리고 싶어. 예산 5만원, 카카오로.\n",
      "\n",
      "분석된 Intent: strategy\n",
      "\n",
      "로그:\n",
      "  [2025-10-14 10:04:40.669140] strategy_supervisor: 의도 분석 시작\n",
      "  [2025-10-14 10:04:40.669159] intent: strategy\n"
     ]
    }
   ],
   "source": [
    "print(\"=\"*60)\n",
    "print(\"Strategy Supervisor 테스트\")\n",
    "print(\"=\"*60)\n",
    "\n",
    "test_state = create_test_state(test_cases[0])\n",
    "result = strategy_supervisor_node(test_state)\n",
    "\n",
    "print(f\"\\n질문: {test_state['user_query']}\")\n",
    "print(f\"\\n분석된 Intent: {result.get('intent')}\")\n",
    "print(f\"\\n로그:\")\n",
    "for log in result.get('logs', []):\n",
    "    print(f\"  {log}\")"
   ]
  },
  {
   "cell_type": "markdown",
   "metadata": {},
   "source": [
    "### 4.2 Context Agent (컨텍스트 생성)"
   ]
  },
  {
   "cell_type": "code",
   "execution_count": 5,
   "metadata": {},
   "outputs": [
    {
     "name": "stderr",
     "output_type": "stream",
     "text": [
      "\u001b[32m2025-10-14 10:04:40.680\u001b[0m | \u001b[1mINFO    \u001b[0m | \u001b[36magents.context_agent\u001b[0m:\u001b[36mcontext_agent_node\u001b[0m:\u001b[36m18\u001b[0m - \u001b[1mContext Agent: 시작\u001b[0m\n",
      "\u001b[32m2025-10-14 10:04:40.682\u001b[0m | \u001b[1mINFO    \u001b[0m | \u001b[36magents.context_agent\u001b[0m:\u001b[36mcontext_agent_node\u001b[0m:\u001b[36m23\u001b[0m - \u001b[1mContext Agent: 완료\u001b[0m\n"
     ]
    },
    {
     "name": "stdout",
     "output_type": "stream",
     "text": [
      "============================================================\n",
      "Context Agent 테스트\n",
      "============================================================\n",
      "\n",
      "📊 KPI:\n",
      "  매출: 12,500,000.0원\n",
      "  방문: 3,200회\n",
      "  객단가: 39,000.0원\n",
      "  재방문율: 27.0%\n",
      "\n",
      "📈 파생 지표:\n",
      "  경쟁강도: 0.74\n",
      "  런치비중: 18.0%\n",
      "  주말편중: 62.0%\n",
      "\n",
      "⚠️ 위험 평가:\n",
      "  위험점수: 0.67\n",
      "  유형: over_comp\n",
      "  요인: comp_intensity↑, same_industry_sales_ratio=0.82\n"
     ]
    }
   ],
   "source": [
    "print(\"=\"*60)\n",
    "print(\"Context Agent 테스트\")\n",
    "print(\"=\"*60)\n",
    "\n",
    "test_state = create_test_state(test_cases[0])\n",
    "result = context_agent_node(test_state)\n",
    "\n",
    "context = result.get('context_json', {})\n",
    "\n",
    "print(f\"\\n📊 KPI:\")\n",
    "kpi = context.get('metrics', {}).get('kpi', {})\n",
    "print(f\"  매출: {kpi.get('sales_sum', 0):,}원\")\n",
    "print(f\"  방문: {kpi.get('visits_sum', 0):,}회\")\n",
    "print(f\"  객단가: {kpi.get('aov', 0):,}원\")\n",
    "print(f\"  재방문율: {kpi.get('repeat_rate', 0):.1%}\")\n",
    "\n",
    "print(f\"\\n📈 파생 지표:\")\n",
    "derived = context.get('metrics', {}).get('derived', {})\n",
    "print(f\"  경쟁강도: {derived.get('comp_intensity', 0):.2f}\")\n",
    "print(f\"  런치비중: {derived.get('lunch_share', 0):.1%}\")\n",
    "print(f\"  주말편중: {derived.get('weekend_share', 0):.1%}\")\n",
    "\n",
    "print(f\"\\n⚠️ 위험 평가:\")\n",
    "risk = context.get('risk', {})\n",
    "print(f\"  위험점수: {risk.get('score', 0):.2f}\")\n",
    "print(f\"  유형: {risk.get('typology', 'N/A')}\")\n",
    "print(f\"  요인: {', '.join(risk.get('reasons', []))}\")"
   ]
  },
  {
   "cell_type": "markdown",
   "metadata": {},
   "source": [
    "### 4.3 Situation Agent (상황 인식)"
   ]
  },
  {
   "cell_type": "code",
   "execution_count": 6,
   "metadata": {},
   "outputs": [
    {
     "name": "stderr",
     "output_type": "stream",
     "text": [
      "\u001b[32m2025-10-14 00:59:31.543\u001b[0m | \u001b[1mINFO    \u001b[0m | \u001b[36magents.situation_agent\u001b[0m:\u001b[36msituation_agent_node\u001b[0m:\u001b[36m18\u001b[0m - \u001b[1mSituation Agent: 시작\u001b[0m\n",
      "\u001b[32m2025-10-14 00:59:31.545\u001b[0m | \u001b[1mINFO    \u001b[0m | \u001b[36magents.situation_agent\u001b[0m:\u001b[36msituation_agent_node\u001b[0m:\u001b[36m36\u001b[0m - \u001b[1mSituation Agent: 완료 (신호: 2개)\u001b[0m\n"
     ]
    },
    {
     "name": "stdout",
     "output_type": "stream",
     "text": [
      "============================================================\n",
      "Situation Agent 테스트\n",
      "============================================================\n",
      "\n",
      "질문: 이번 주 비 온다는데 매출 영향 있을까?\n",
      "\n",
      "유효 신호: True\n",
      "요약: 우천(POP≥60%) + 대규모 행사 → 유동 흐름 변화 예상\n",
      "\n",
      "신호 상세 (2개):\n",
      "\n",
      "  [1] WEATHER\n",
      "      설명: 강수확률 70%, 예보 강수량 18.0mm\n",
      "      관련성: 0.82\n",
      "      이유: POP≥60% 충족\n",
      "\n",
      "  [2] EVENT\n",
      "      설명: 한강 야시장 (예상 8천명)\n",
      "      관련성: 0.75\n",
      "      이유: 도보 15분 이내 대규모 행사\n"
     ]
    }
   ],
   "source": [
    "print(\"=\"*60)\n",
    "print(\"Situation Agent 테스트\")\n",
    "print(\"=\"*60)\n",
    "\n",
    "# 날씨 관련 질문으로 테스트\n",
    "test_state = create_test_state(test_cases[1])\n",
    "result = situation_agent_node(test_state)\n",
    "\n",
    "situation = result.get('situation_json', {})\n",
    "\n",
    "print(f\"\\n질문: {test_state['user_query']}\")\n",
    "print(f\"\\n유효 신호: {situation.get('has_valid_signal')}\")\n",
    "print(f\"요약: {situation.get('summary')}\")\n",
    "\n",
    "signals = situation.get('signals', [])\n",
    "if signals:\n",
    "    print(f\"\\n신호 상세 ({len(signals)}개):\")\n",
    "    for idx, signal in enumerate(signals, 1):\n",
    "        print(f\"\\n  [{idx}] {signal.get('signal_type').upper()}\")\n",
    "        print(f\"      설명: {signal.get('description')}\")\n",
    "        print(f\"      관련성: {signal.get('relevance', 0):.2f}\")\n",
    "        print(f\"      이유: {signal.get('reason')}\")"
   ]
  },
  {
   "cell_type": "markdown",
   "metadata": {},
   "source": [
    "### 4.4 Resource Agent (리소스 매칭)"
   ]
  },
  {
   "cell_type": "code",
   "execution_count": 7,
   "metadata": {},
   "outputs": [
    {
     "name": "stderr",
     "output_type": "stream",
     "text": [
      "\u001b[32m2025-10-14 00:59:32.338\u001b[0m | \u001b[1mINFO    \u001b[0m | \u001b[36magents.resource_agent\u001b[0m:\u001b[36mresource_agent_node\u001b[0m:\u001b[36m18\u001b[0m - \u001b[1mResource Agent: 시작\u001b[0m\n",
      "\u001b[32m2025-10-14 00:59:32.340\u001b[0m | \u001b[1mINFO    \u001b[0m | \u001b[36magents.resource_agent\u001b[0m:\u001b[36mresource_agent_node\u001b[0m:\u001b[36m22\u001b[0m - \u001b[1mResource Agent: 완료\u001b[0m\n"
     ]
    },
    {
     "name": "stdout",
     "output_type": "stream",
     "text": [
      "============================================================\n",
      "Resource Agent 테스트\n",
      "============================================================\n",
      "\n",
      "제목: Kakao 저예산 패키지\n",
      "요약: 예산 50,000원으로 실행 가능한 kakao 캠페인\n",
      "\n",
      "패키지 정보:\n",
      "  ID: CAT-KAKAO-LOW-01\n",
      "  채널: kakao\n",
      "  예산: 50,000KRW (low)\n",
      "  적합도: 0.86\n",
      "\n",
      "실행 체크리스트:\n",
      "  ☐ 카톡 채널 쿠폰 발급 (담당: owner, 소요: 15분)\n",
      "  ☐ 알림톡 템플릿 작성 (담당: owner, 소요: 20분)\n",
      "  ☐ 타겟 세그먼트 설정 (담당: owner, 소요: 10분)\n",
      "\n",
      "예상 비용:\n",
      "  매체비: 30,000원\n",
      "  제작비: 0원\n"
     ]
    }
   ],
   "source": [
    "print(\"=\"*60)\n",
    "print(\"Resource Agent 테스트\")\n",
    "print(\"=\"*60)\n",
    "\n",
    "test_state = create_test_state(test_cases[0])\n",
    "result = resource_agent_node(test_state)\n",
    "\n",
    "resource = result.get('resource_json', {})\n",
    "card = resource.get('resource_card', {})\n",
    "package = card.get('package', {})\n",
    "\n",
    "print(f\"\\n제목: {card.get('title')}\")\n",
    "print(f\"요약: {card.get('summary')}\")\n",
    "\n",
    "print(f\"\\n패키지 정보:\")\n",
    "print(f\"  ID: {package.get('id')}\")\n",
    "print(f\"  채널: {package.get('channel')}\")\n",
    "budget = package.get('budget', {})\n",
    "print(f\"  예산: {budget.get('cap', 0):,}{budget.get('unit', 'KRW')} ({budget.get('tier', 'N/A')})\")\n",
    "print(f\"  적합도: {package.get('fit_score', 0):.2f}\")\n",
    "\n",
    "print(f\"\\n실행 체크리스트:\")\n",
    "execution = card.get('execution', {})\n",
    "for item in execution.get('checklist', []):\n",
    "    print(f\"  ☐ {item.get('step')} (담당: {item.get('owner')}, 소요: {item.get('eta_min')}분)\")\n",
    "\n",
    "print(f\"\\n예상 비용:\")\n",
    "costs = execution.get('estimated_costs', {})\n",
    "print(f\"  매체비: {costs.get('media_spend', 0):,}원\")\n",
    "print(f\"  제작비: {costs.get('production_spend', 0):,}원\")"
   ]
  },
  {
   "cell_type": "markdown",
   "metadata": {},
   "source": [
    "### 4.5 Merge Supervisor (전략 생성)"
   ]
  },
  {
   "cell_type": "code",
   "execution_count": 8,
   "metadata": {},
   "outputs": [
    {
     "name": "stderr",
     "output_type": "stream",
     "text": [
      "\u001b[32m2025-10-14 00:59:33.214\u001b[0m | \u001b[1mINFO    \u001b[0m | \u001b[36magents.context_agent\u001b[0m:\u001b[36mcontext_agent_node\u001b[0m:\u001b[36m18\u001b[0m - \u001b[1mContext Agent: 시작\u001b[0m\n",
      "\u001b[32m2025-10-14 00:59:33.216\u001b[0m | \u001b[1mINFO    \u001b[0m | \u001b[36magents.context_agent\u001b[0m:\u001b[36mcontext_agent_node\u001b[0m:\u001b[36m23\u001b[0m - \u001b[1mContext Agent: 완료\u001b[0m\n",
      "\u001b[32m2025-10-14 00:59:33.216\u001b[0m | \u001b[1mINFO    \u001b[0m | \u001b[36magents.situation_agent\u001b[0m:\u001b[36msituation_agent_node\u001b[0m:\u001b[36m18\u001b[0m - \u001b[1mSituation Agent: 시작\u001b[0m\n",
      "\u001b[32m2025-10-14 00:59:33.217\u001b[0m | \u001b[1mINFO    \u001b[0m | \u001b[36magents.situation_agent\u001b[0m:\u001b[36msituation_agent_node\u001b[0m:\u001b[36m22\u001b[0m - \u001b[1m상황 분석 불필요\u001b[0m\n",
      "\u001b[32m2025-10-14 00:59:33.218\u001b[0m | \u001b[1mINFO    \u001b[0m | \u001b[36magents.resource_agent\u001b[0m:\u001b[36mresource_agent_node\u001b[0m:\u001b[36m18\u001b[0m - \u001b[1mResource Agent: 시작\u001b[0m\n",
      "\u001b[32m2025-10-14 00:59:33.219\u001b[0m | \u001b[1mINFO    \u001b[0m | \u001b[36magents.resource_agent\u001b[0m:\u001b[36mresource_agent_node\u001b[0m:\u001b[36m22\u001b[0m - \u001b[1mResource Agent: 완료\u001b[0m\n",
      "\u001b[32m2025-10-14 00:59:33.220\u001b[0m | \u001b[1mINFO    \u001b[0m | \u001b[36magents.strategy_supervisor\u001b[0m:\u001b[36mmerge_supervisor_node\u001b[0m:\u001b[36m41\u001b[0m - \u001b[1mMerge Supervisor: 데이터 통합 시작\u001b[0m\n",
      "\u001b[32m2025-10-14 00:59:33.220\u001b[0m | \u001b[1mINFO    \u001b[0m | \u001b[36magents.strategy_supervisor\u001b[0m:\u001b[36mmerge_supervisor_node\u001b[0m:\u001b[36m62\u001b[0m - \u001b[1m전략 카드 생성 완료: 1개\u001b[0m\n"
     ]
    },
    {
     "name": "stdout",
     "output_type": "stream",
     "text": [
      "============================================================\n",
      "Merge Supervisor 테스트\n",
      "============================================================\n",
      "\n",
      "생성된 전략 카드: 1개\n",
      "\n",
      "[카드 1]\n",
      "제목: 평일 런치 타겟 번들 프로모션\n",
      "\n",
      "가설: 런치 비중이 낮고 주말에 편중된 매출 구조를 평일로 분산하여 전체 매출 증대\n",
      "\n",
      "근거:\n",
      "  • 주말 편중: 62%\n",
      "  • 런치 비중: 18%\n",
      "\n",
      "타겟: 직장인, 20-40대\n",
      "채널: kakao, instagram\n",
      "제안: 11-14시 세트 메뉴 3종, 15% 할인\n",
      "\n",
      "기간: 2025-10-14 ~ 2025-11-30\n",
      "예산: 50,000KRW\n",
      "목표: trans +8%/2w\n",
      "\n",
      "위험:\n",
      "  ⚠️ 직원 대응 역량 부족 시 고객 불만 발생 가능\n",
      "  ⚠️ 재료 수급 이슈 발생 시 프로모션 중단 리스크\n"
     ]
    }
   ],
   "source": [
    "print(\"=\"*60)\n",
    "print(\"Merge Supervisor 테스트\")\n",
    "print(\"=\"*60)\n",
    "\n",
    "# 먼저 데이터 수집\n",
    "test_state = create_test_state(test_cases[0])\n",
    "\n",
    "# Context 생성\n",
    "ctx_result = context_agent_node(test_state)\n",
    "test_state['context_json'] = ctx_result['context_json']\n",
    "\n",
    "# Situation 생성\n",
    "sit_result = situation_agent_node(test_state)\n",
    "test_state['situation_json'] = sit_result['situation_json']\n",
    "\n",
    "# Resource 생성\n",
    "res_result = resource_agent_node(test_state)\n",
    "test_state['resource_json'] = res_result['resource_json']\n",
    "\n",
    "# 전략 생성\n",
    "result = merge_supervisor_node(test_state)\n",
    "\n",
    "cards = result.get('strategy_cards', [])\n",
    "print(f\"\\n생성된 전략 카드: {len(cards)}개\\n\")\n",
    "\n",
    "for idx, card in enumerate(cards, 1):\n",
    "    print(f\"[카드 {idx}]\")\n",
    "    print(f\"제목: {card.get('title')}\")\n",
    "    print(f\"\\n가설: {card.get('hypothesis')}\")\n",
    "    \n",
    "    print(f\"\\n근거:\")\n",
    "    for why in card.get('why', []):\n",
    "        print(f\"  • {why}\")\n",
    "    \n",
    "    print(f\"\\n타겟: {card.get('target_segment')}\")\n",
    "    print(f\"채널: {', '.join(card.get('channel_hints', []))}\")\n",
    "    print(f\"제안: {card.get('offer')}\")\n",
    "    \n",
    "    timeline = card.get('timeline', {})\n",
    "    print(f\"\\n기간: {timeline.get('start')} ~ {timeline.get('end')}\")\n",
    "    \n",
    "    budget = card.get('budget', {})\n",
    "    print(f\"예산: {budget.get('cap', 0):,}{budget.get('unit', 'KRW')}\")\n",
    "    \n",
    "    kpi = card.get('kpi_targets', {}).get('primary', {})\n",
    "    print(f\"목표: {kpi.get('metric')} {kpi.get('target')}\")\n",
    "    \n",
    "    print(f\"\\n위험:\")\n",
    "    for risk in card.get('risks', []):\n",
    "        print(f\"  ⚠️ {risk}\")"
   ]
  },
  {
   "cell_type": "markdown",
   "metadata": {},
   "source": [
    "### 4.6 Evaluation Agent (평가)"
   ]
  },
  {
   "cell_type": "code",
   "execution_count": 9,
   "metadata": {},
   "outputs": [
    {
     "name": "stderr",
     "output_type": "stream",
     "text": [
      "\u001b[32m2025-10-14 00:59:34.669\u001b[0m | \u001b[1mINFO    \u001b[0m | \u001b[36magents.evaluation_agent\u001b[0m:\u001b[36mevaluation_agent_node\u001b[0m:\u001b[36m19\u001b[0m - \u001b[1mEvaluation Agent: 시작\u001b[0m\n",
      "\u001b[32m2025-10-14 00:59:34.671\u001b[0m | \u001b[33m\u001b[1mWARNING \u001b[0m | \u001b[36magents.evaluation_agent\u001b[0m:\u001b[36mevaluation_agent_node\u001b[0m:\u001b[36m24\u001b[0m - \u001b[33m\u001b[1m평가할 전략 카드 없음\u001b[0m\n"
     ]
    },
    {
     "name": "stdout",
     "output_type": "stream",
     "text": [
      "============================================================\n",
      "Evaluation Agent 테스트\n",
      "============================================================\n",
      "\n",
      "요약: None\n",
      "심각도: ⚪ None\n",
      "\n",
      "검증 결과:\n",
      "\n",
      "권장 액션:\n"
     ]
    }
   ],
   "source": [
    "print(\"=\"*60)\n",
    "print(\"Evaluation Agent 테스트\")\n",
    "print(\"=\"*60)\n",
    "\n",
    "# 이전 단계에서 생성된 전략 카드가 있는 상태 사용\n",
    "result = evaluation_agent_node(test_state)\n",
    "\n",
    "eval_report = result.get('eval_report', {})\n",
    "\n",
    "severity_emoji = {\n",
    "    'low': '🟢',\n",
    "    'medium': '🟡',\n",
    "    'high': '🔴'\n",
    "}\n",
    "\n",
    "print(f\"\\n요약: {eval_report.get('summary')}\")\n",
    "print(f\"심각도: {severity_emoji.get(eval_report.get('severity'), '⚪')} {eval_report.get('severity')}\")\n",
    "\n",
    "checks = eval_report.get('checks', [])\n",
    "print(f\"\\n검증 결과:\")\n",
    "for check in checks:\n",
    "    card_idx = check.get('card_idx')\n",
    "    print(f\"\\n  [카드 {card_idx + 1}]\")\n",
    "    \n",
    "    constraint_fit = '✅' if check.get('constraint_fit') else '❌'\n",
    "    evidence_match = '✅' if check.get('evidence_match') else '❌'\n",
    "    \n",
    "    print(f\"    제약 부합: {constraint_fit}\")\n",
    "    print(f\"    근거 매칭: {evidence_match}\")\n",
    "    \n",
    "    risk_notes = check.get('risk_notes', [])\n",
    "    if risk_notes:\n",
    "        print(f\"    위험 노트:\")\n",
    "        for note in risk_notes:\n",
    "            print(f\"      • {note}\")\n",
    "    \n",
    "    fix = check.get('fix_suggestion')\n",
    "    if fix:\n",
    "        print(f\"    💡 수정 제안: {fix}\")\n",
    "\n",
    "print(f\"\\n권장 액션:\")\n",
    "for action in eval_report.get('recommended_actions', []):\n",
    "    print(f\"  • {action.get('action')}: {action.get('impact')}\")"
   ]
  },
  {
   "cell_type": "markdown",
   "metadata": {},
   "source": [
    "## 5. 전체 그래프 실행 테스트"
   ]
  },
  {
   "cell_type": "code",
   "execution_count": 10,
   "metadata": {},
   "outputs": [],
   "source": [
    "def test_full_graph(question: str, budget: int = 50000, channels: list = None):\n",
    "    \"\"\"전체 그래프 실행 테스트\"\"\"\n",
    "    print(\"=\"*60)\n",
    "    print(f\"질문: {question}\")\n",
    "    print(\"=\"*60)\n",
    "    \n",
    "    initial_state = create_test_state(question, budget, channels)\n",
    "    \n",
    "    print(\"\\n🚀 그래프 실행 중...\\n\")\n",
    "    final_state = marketing_graph.invoke(initial_state)\n",
    "    \n",
    "    # 결과 출력\n",
    "    print(\"\\n\" + \"=\"*60)\n",
    "    print(\"최종 결과\")\n",
    "    print(\"=\"*60)\n",
    "    \n",
    "    print(f\"\\n🎯 Intent: {final_state.get('intent')}\")\n",
    "    \n",
    "    # 전략 카드\n",
    "    cards = final_state.get('strategy_cards', [])\n",
    "    print(f\"\\n📊 생성된 전략: {len(cards)}개\")\n",
    "    for idx, card in enumerate(cards, 1):\n",
    "        print(f\"\\n  [{idx}] {card.get('title')}\")\n",
    "        print(f\"      타겟: {card.get('target_segment')}\")\n",
    "        print(f\"      제안: {card.get('offer')}\")\n",
    "    \n",
    "    # 평가\n",
    "    eval_report = final_state.get('eval_report', {})\n",
    "    if eval_report:\n",
    "        print(f\"\\n✅ 평가: {eval_report.get('summary')}\")\n",
    "        print(f\"   심각도: {eval_report.get('severity')}\")\n",
    "    \n",
    "    # 로그 (마지막 5개)\n",
    "    logs = final_state.get('logs', [])\n",
    "    print(f\"\\n📝 실행 로그 (마지막 5개):\")\n",
    "    for log in logs[-5:]:\n",
    "        print(f\"   {log}\")\n",
    "    \n",
    "    return final_state"
   ]
  },
  {
   "cell_type": "code",
   "execution_count": 11,
   "metadata": {},
   "outputs": [
    {
     "name": "stderr",
     "output_type": "stream",
     "text": [
      "\u001b[32m2025-10-14 00:59:37.132\u001b[0m | \u001b[1mINFO    \u001b[0m | \u001b[36magents.strategy_supervisor\u001b[0m:\u001b[36mstrategy_supervisor_node\u001b[0m:\u001b[36m17\u001b[0m - \u001b[1mStrategy Supervisor: 시작\u001b[0m\n",
      "\u001b[32m2025-10-14 00:59:37.132\u001b[0m | \u001b[1mINFO    \u001b[0m | \u001b[36magents.strategy_supervisor\u001b[0m:\u001b[36mstrategy_supervisor_node\u001b[0m:\u001b[36m26\u001b[0m - \u001b[1mIntent detected: strategy\u001b[0m\n",
      "\u001b[32m2025-10-14 00:59:37.134\u001b[0m | \u001b[1mINFO    \u001b[0m | \u001b[36magents.context_agent\u001b[0m:\u001b[36mcontext_agent_node\u001b[0m:\u001b[36m18\u001b[0m - \u001b[1mContext Agent: 시작\u001b[0m\n",
      "\u001b[32m2025-10-14 00:59:37.136\u001b[0m | \u001b[1mINFO    \u001b[0m | \u001b[36magents.context_agent\u001b[0m:\u001b[36mcontext_agent_node\u001b[0m:\u001b[36m23\u001b[0m - \u001b[1mContext Agent: 완료\u001b[0m\n",
      "\u001b[32m2025-10-14 00:59:37.136\u001b[0m | \u001b[1mINFO    \u001b[0m | \u001b[36magents.resource_agent\u001b[0m:\u001b[36mresource_agent_node\u001b[0m:\u001b[36m18\u001b[0m - \u001b[1mResource Agent: 시작\u001b[0m\n",
      "\u001b[32m2025-10-14 00:59:37.137\u001b[0m | \u001b[1mINFO    \u001b[0m | \u001b[36magents.situation_agent\u001b[0m:\u001b[36msituation_agent_node\u001b[0m:\u001b[36m18\u001b[0m - \u001b[1mSituation Agent: 시작\u001b[0m\n",
      "\u001b[32m2025-10-14 00:59:37.140\u001b[0m | \u001b[1mINFO    \u001b[0m | \u001b[36magents.resource_agent\u001b[0m:\u001b[36mresource_agent_node\u001b[0m:\u001b[36m22\u001b[0m - \u001b[1mResource Agent: 완료\u001b[0m\n",
      "\u001b[32m2025-10-14 00:59:37.141\u001b[0m | \u001b[1mINFO    \u001b[0m | \u001b[36magents.situation_agent\u001b[0m:\u001b[36msituation_agent_node\u001b[0m:\u001b[36m22\u001b[0m - \u001b[1m상황 분석 불필요\u001b[0m\n",
      "\u001b[32m2025-10-14 00:59:37.144\u001b[0m | \u001b[1mINFO    \u001b[0m | \u001b[36magents.strategy_supervisor\u001b[0m:\u001b[36mmerge_supervisor_node\u001b[0m:\u001b[36m41\u001b[0m - \u001b[1mMerge Supervisor: 데이터 통합 시작\u001b[0m\n",
      "\u001b[32m2025-10-14 00:59:37.145\u001b[0m | \u001b[1mINFO    \u001b[0m | \u001b[36magents.strategy_supervisor\u001b[0m:\u001b[36mmerge_supervisor_node\u001b[0m:\u001b[36m62\u001b[0m - \u001b[1m전략 카드 생성 완료: 1개\u001b[0m\n",
      "\u001b[32m2025-10-14 00:59:37.146\u001b[0m | \u001b[1mINFO    \u001b[0m | \u001b[36magents.evaluation_agent\u001b[0m:\u001b[36mevaluation_agent_node\u001b[0m:\u001b[36m19\u001b[0m - \u001b[1mEvaluation Agent: 시작\u001b[0m\n",
      "\u001b[32m2025-10-14 00:59:37.147\u001b[0m | \u001b[1mINFO    \u001b[0m | \u001b[36magents.evaluation_agent\u001b[0m:\u001b[36mevaluation_agent_node\u001b[0m:\u001b[36m31\u001b[0m - \u001b[1mEvaluation Agent: 완료 (심각도: low)\u001b[0m\n"
     ]
    },
    {
     "name": "stdout",
     "output_type": "stream",
     "text": [
      "============================================================\n",
      "질문: 평일 점심 매출을 늘리고 싶어. 예산 5만원, 카카오로.\n",
      "============================================================\n",
      "\n",
      "🚀 그래프 실행 중...\n",
      "\n",
      "\n",
      "============================================================\n",
      "최종 결과\n",
      "============================================================\n",
      "\n",
      "🎯 Intent: strategy\n",
      "\n",
      "📊 생성된 전략: 1개\n",
      "\n",
      "  [1] 평일 런치 타겟 번들 프로모션\n",
      "      타겟: 직장인, 20-40대\n",
      "      제안: 11-14시 세트 메뉴 3종, 15% 할인\n",
      "\n",
      "✅ 평가: 카드 1건 중 1건 적합, 0건 수정 권고\n",
      "   심각도: low\n",
      "\n",
      "📝 실행 로그 (마지막 5개):\n",
      "   [2025-10-14 00:59:37.142251] resource_agent: 리소스 매칭 완료\n",
      "   [2025-10-14 00:59:37.143723] situation_agent: 스킵 (관련 키워드 없음)\n",
      "   [2025-10-14 00:59:37.145212] merge_supervisor: 3개 에이전트 결과 통합\n",
      "   [2025-10-14 00:59:37.145355] 전략 카드 생성 완료: 평일 런치 타겟 번들 프로모션\n",
      "   [2025-10-14 00:59:37.149021] evaluation_agent: 평가 완료 (심각도: low)\n"
     ]
    }
   ],
   "source": [
    "# 테스트 케이스 1\n",
    "result1 = test_full_graph(\n",
    "    \"평일 점심 매출을 늘리고 싶어. 예산 5만원, 카카오로.\",\n",
    "    budget=50000,\n",
    "    channels=[\"kakao\"]\n",
    ")"
   ]
  },
  {
   "cell_type": "code",
   "execution_count": 12,
   "metadata": {},
   "outputs": [
    {
     "name": "stderr",
     "output_type": "stream",
     "text": [
      "\u001b[32m2025-10-14 00:59:37.437\u001b[0m | \u001b[1mINFO    \u001b[0m | \u001b[36magents.strategy_supervisor\u001b[0m:\u001b[36mstrategy_supervisor_node\u001b[0m:\u001b[36m17\u001b[0m - \u001b[1mStrategy Supervisor: 시작\u001b[0m\n",
      "\u001b[32m2025-10-14 00:59:37.438\u001b[0m | \u001b[1mINFO    \u001b[0m | \u001b[36magents.strategy_supervisor\u001b[0m:\u001b[36mstrategy_supervisor_node\u001b[0m:\u001b[36m26\u001b[0m - \u001b[1mIntent detected: strategy\u001b[0m\n",
      "\u001b[32m2025-10-14 00:59:37.441\u001b[0m | \u001b[1mINFO    \u001b[0m | \u001b[36magents.context_agent\u001b[0m:\u001b[36mcontext_agent_node\u001b[0m:\u001b[36m18\u001b[0m - \u001b[1mContext Agent: 시작\u001b[0m\n",
      "\u001b[32m2025-10-14 00:59:37.442\u001b[0m | \u001b[1mINFO    \u001b[0m | \u001b[36magents.resource_agent\u001b[0m:\u001b[36mresource_agent_node\u001b[0m:\u001b[36m18\u001b[0m - \u001b[1mResource Agent: 시작\u001b[0m\n",
      "\u001b[32m2025-10-14 00:59:37.443\u001b[0m | \u001b[1mINFO    \u001b[0m | \u001b[36magents.context_agent\u001b[0m:\u001b[36mcontext_agent_node\u001b[0m:\u001b[36m23\u001b[0m - \u001b[1mContext Agent: 완료\u001b[0m\n",
      "\u001b[32m2025-10-14 00:59:37.443\u001b[0m | \u001b[1mINFO    \u001b[0m | \u001b[36magents.situation_agent\u001b[0m:\u001b[36msituation_agent_node\u001b[0m:\u001b[36m18\u001b[0m - \u001b[1mSituation Agent: 시작\u001b[0m\n",
      "\u001b[32m2025-10-14 00:59:37.445\u001b[0m | \u001b[1mINFO    \u001b[0m | \u001b[36magents.resource_agent\u001b[0m:\u001b[36mresource_agent_node\u001b[0m:\u001b[36m22\u001b[0m - \u001b[1mResource Agent: 완료\u001b[0m\n",
      "\u001b[32m2025-10-14 00:59:37.448\u001b[0m | \u001b[1mINFO    \u001b[0m | \u001b[36magents.situation_agent\u001b[0m:\u001b[36msituation_agent_node\u001b[0m:\u001b[36m36\u001b[0m - \u001b[1mSituation Agent: 완료 (신호: 2개)\u001b[0m\n",
      "\u001b[32m2025-10-14 00:59:37.451\u001b[0m | \u001b[1mINFO    \u001b[0m | \u001b[36magents.strategy_supervisor\u001b[0m:\u001b[36mmerge_supervisor_node\u001b[0m:\u001b[36m41\u001b[0m - \u001b[1mMerge Supervisor: 데이터 통합 시작\u001b[0m\n"
     ]
    },
    {
     "name": "stdout",
     "output_type": "stream",
     "text": [
      "============================================================\n",
      "질문: 이번 주 비 온다는데 매출 영향 있을까?\n",
      "============================================================\n",
      "\n",
      "🚀 그래프 실행 중...\n",
      "\n"
     ]
    },
    {
     "ename": "ValidationError",
     "evalue": "2 validation errors for InputsUsed\nsituation_signal_ids.0\n  Input should be a valid string [type=string_type, input_value={'signal_id': 'WX-2025101...on': 'POP≥60% 충족'}, input_type=dict]\n    For further information visit https://errors.pydantic.dev/2.11/v/string_type\nsituation_signal_ids.1\n  Input should be a valid string [type=string_type, input_value={'signal_id': 'EV-2025101...내 대규모 행사'}, input_type=dict]\n    For further information visit https://errors.pydantic.dev/2.11/v/string_type",
     "output_type": "error",
     "traceback": [
      "\u001b[31m---------------------------------------------------------------------------\u001b[39m",
      "\u001b[31mValidationError\u001b[39m                           Traceback (most recent call last)",
      "\u001b[36mCell\u001b[39m\u001b[36m \u001b[39m\u001b[32mIn[12]\u001b[39m\u001b[32m, line 2\u001b[39m\n\u001b[32m      1\u001b[39m \u001b[38;5;66;03m# 테스트 케이스 2 (상황 인식 포함)\u001b[39;00m\n\u001b[32m----> \u001b[39m\u001b[32m2\u001b[39m result2 = \u001b[43mtest_full_graph\u001b[49m\u001b[43m(\u001b[49m\n\u001b[32m      3\u001b[39m \u001b[43m    \u001b[49m\u001b[33;43m\"\u001b[39;49m\u001b[33;43m이번 주 비 온다는데 매출 영향 있을까?\u001b[39;49m\u001b[33;43m\"\u001b[39;49m\u001b[43m,\u001b[49m\n\u001b[32m      4\u001b[39m \u001b[43m    \u001b[49m\u001b[43mbudget\u001b[49m\u001b[43m=\u001b[49m\u001b[32;43m100000\u001b[39;49m\u001b[43m,\u001b[49m\n\u001b[32m      5\u001b[39m \u001b[43m    \u001b[49m\u001b[43mchannels\u001b[49m\u001b[43m=\u001b[49m\u001b[43m[\u001b[49m\u001b[33;43m\"\u001b[39;49m\u001b[33;43minstagram\u001b[39;49m\u001b[33;43m\"\u001b[39;49m\u001b[43m,\u001b[49m\u001b[43m \u001b[49m\u001b[33;43m\"\u001b[39;49m\u001b[33;43mkakao\u001b[39;49m\u001b[33;43m\"\u001b[39;49m\u001b[43m]\u001b[49m\n\u001b[32m      6\u001b[39m \u001b[43m)\u001b[49m\n",
      "\u001b[36mCell\u001b[39m\u001b[36m \u001b[39m\u001b[32mIn[10]\u001b[39m\u001b[32m, line 10\u001b[39m, in \u001b[36mtest_full_graph\u001b[39m\u001b[34m(question, budget, channels)\u001b[39m\n\u001b[32m      7\u001b[39m initial_state = create_test_state(question, budget, channels)\n\u001b[32m      9\u001b[39m \u001b[38;5;28mprint\u001b[39m(\u001b[33m\"\u001b[39m\u001b[38;5;130;01m\\n\u001b[39;00m\u001b[33m🚀 그래프 실행 중...\u001b[39m\u001b[38;5;130;01m\\n\u001b[39;00m\u001b[33m\"\u001b[39m)\n\u001b[32m---> \u001b[39m\u001b[32m10\u001b[39m final_state = \u001b[43mmarketing_graph\u001b[49m\u001b[43m.\u001b[49m\u001b[43minvoke\u001b[49m\u001b[43m(\u001b[49m\u001b[43minitial_state\u001b[49m\u001b[43m)\u001b[49m\n\u001b[32m     12\u001b[39m \u001b[38;5;66;03m# 결과 출력\u001b[39;00m\n\u001b[32m     13\u001b[39m \u001b[38;5;28mprint\u001b[39m(\u001b[33m\"\u001b[39m\u001b[38;5;130;01m\\n\u001b[39;00m\u001b[33m\"\u001b[39m + \u001b[33m\"\u001b[39m\u001b[33m=\u001b[39m\u001b[33m\"\u001b[39m*\u001b[32m60\u001b[39m)\n",
      "\u001b[36mFile \u001b[39m\u001b[32m~/miniconda3/envs/bigcon/lib/python3.12/site-packages/langgraph/pregel/main.py:3068\u001b[39m, in \u001b[36mPregel.invoke\u001b[39m\u001b[34m(self, input, config, context, stream_mode, print_mode, output_keys, interrupt_before, interrupt_after, durability, **kwargs)\u001b[39m\n\u001b[32m   3065\u001b[39m chunks: \u001b[38;5;28mlist\u001b[39m[\u001b[38;5;28mdict\u001b[39m[\u001b[38;5;28mstr\u001b[39m, Any] | Any] = []\n\u001b[32m   3066\u001b[39m interrupts: \u001b[38;5;28mlist\u001b[39m[Interrupt] = []\n\u001b[32m-> \u001b[39m\u001b[32m3068\u001b[39m \u001b[43m\u001b[49m\u001b[38;5;28;43;01mfor\u001b[39;49;00m\u001b[43m \u001b[49m\u001b[43mchunk\u001b[49m\u001b[43m \u001b[49m\u001b[38;5;129;43;01min\u001b[39;49;00m\u001b[43m \u001b[49m\u001b[38;5;28;43mself\u001b[39;49m\u001b[43m.\u001b[49m\u001b[43mstream\u001b[49m\u001b[43m(\u001b[49m\n\u001b[32m   3069\u001b[39m \u001b[43m    \u001b[49m\u001b[38;5;28;43minput\u001b[39;49m\u001b[43m,\u001b[49m\n\u001b[32m   3070\u001b[39m \u001b[43m    \u001b[49m\u001b[43mconfig\u001b[49m\u001b[43m,\u001b[49m\n\u001b[32m   3071\u001b[39m \u001b[43m    \u001b[49m\u001b[43mcontext\u001b[49m\u001b[43m=\u001b[49m\u001b[43mcontext\u001b[49m\u001b[43m,\u001b[49m\n\u001b[32m   3072\u001b[39m \u001b[43m    \u001b[49m\u001b[43mstream_mode\u001b[49m\u001b[43m=\u001b[49m\u001b[43m[\u001b[49m\u001b[33;43m\"\u001b[39;49m\u001b[33;43mupdates\u001b[39;49m\u001b[33;43m\"\u001b[39;49m\u001b[43m,\u001b[49m\u001b[43m \u001b[49m\u001b[33;43m\"\u001b[39;49m\u001b[33;43mvalues\u001b[39;49m\u001b[33;43m\"\u001b[39;49m\u001b[43m]\u001b[49m\n\u001b[32m   3073\u001b[39m \u001b[43m    \u001b[49m\u001b[38;5;28;43;01mif\u001b[39;49;00m\u001b[43m \u001b[49m\u001b[43mstream_mode\u001b[49m\u001b[43m \u001b[49m\u001b[43m==\u001b[49m\u001b[43m \u001b[49m\u001b[33;43m\"\u001b[39;49m\u001b[33;43mvalues\u001b[39;49m\u001b[33;43m\"\u001b[39;49m\n\u001b[32m   3074\u001b[39m \u001b[43m    \u001b[49m\u001b[38;5;28;43;01melse\u001b[39;49;00m\u001b[43m \u001b[49m\u001b[43mstream_mode\u001b[49m\u001b[43m,\u001b[49m\n\u001b[32m   3075\u001b[39m \u001b[43m    \u001b[49m\u001b[43mprint_mode\u001b[49m\u001b[43m=\u001b[49m\u001b[43mprint_mode\u001b[49m\u001b[43m,\u001b[49m\n\u001b[32m   3076\u001b[39m \u001b[43m    \u001b[49m\u001b[43moutput_keys\u001b[49m\u001b[43m=\u001b[49m\u001b[43moutput_keys\u001b[49m\u001b[43m,\u001b[49m\n\u001b[32m   3077\u001b[39m \u001b[43m    \u001b[49m\u001b[43minterrupt_before\u001b[49m\u001b[43m=\u001b[49m\u001b[43minterrupt_before\u001b[49m\u001b[43m,\u001b[49m\n\u001b[32m   3078\u001b[39m \u001b[43m    \u001b[49m\u001b[43minterrupt_after\u001b[49m\u001b[43m=\u001b[49m\u001b[43minterrupt_after\u001b[49m\u001b[43m,\u001b[49m\n\u001b[32m   3079\u001b[39m \u001b[43m    \u001b[49m\u001b[43mdurability\u001b[49m\u001b[43m=\u001b[49m\u001b[43mdurability\u001b[49m\u001b[43m,\u001b[49m\n\u001b[32m   3080\u001b[39m \u001b[43m    \u001b[49m\u001b[43m*\u001b[49m\u001b[43m*\u001b[49m\u001b[43mkwargs\u001b[49m\u001b[43m,\u001b[49m\n\u001b[32m   3081\u001b[39m \u001b[43m\u001b[49m\u001b[43m)\u001b[49m\u001b[43m:\u001b[49m\n\u001b[32m   3082\u001b[39m \u001b[43m    \u001b[49m\u001b[38;5;28;43;01mif\u001b[39;49;00m\u001b[43m \u001b[49m\u001b[43mstream_mode\u001b[49m\u001b[43m \u001b[49m\u001b[43m==\u001b[49m\u001b[43m \u001b[49m\u001b[33;43m\"\u001b[39;49m\u001b[33;43mvalues\u001b[39;49m\u001b[33;43m\"\u001b[39;49m\u001b[43m:\u001b[49m\n\u001b[32m   3083\u001b[39m \u001b[43m        \u001b[49m\u001b[38;5;28;43;01mif\u001b[39;49;00m\u001b[43m \u001b[49m\u001b[38;5;28;43mlen\u001b[39;49m\u001b[43m(\u001b[49m\u001b[43mchunk\u001b[49m\u001b[43m)\u001b[49m\u001b[43m \u001b[49m\u001b[43m==\u001b[49m\u001b[43m \u001b[49m\u001b[32;43m2\u001b[39;49m\u001b[43m:\u001b[49m\n",
      "\u001b[36mFile \u001b[39m\u001b[32m~/miniconda3/envs/bigcon/lib/python3.12/site-packages/langgraph/pregel/main.py:2657\u001b[39m, in \u001b[36mPregel.stream\u001b[39m\u001b[34m(self, input, config, context, stream_mode, print_mode, output_keys, interrupt_before, interrupt_after, durability, subgraphs, debug, **kwargs)\u001b[39m\n\u001b[32m   2655\u001b[39m \u001b[38;5;28;01mfor\u001b[39;00m task \u001b[38;5;129;01min\u001b[39;00m loop.match_cached_writes():\n\u001b[32m   2656\u001b[39m     loop.output_writes(task.id, task.writes, cached=\u001b[38;5;28;01mTrue\u001b[39;00m)\n\u001b[32m-> \u001b[39m\u001b[32m2657\u001b[39m \u001b[43m\u001b[49m\u001b[38;5;28;43;01mfor\u001b[39;49;00m\u001b[43m \u001b[49m\u001b[43m_\u001b[49m\u001b[43m \u001b[49m\u001b[38;5;129;43;01min\u001b[39;49;00m\u001b[43m \u001b[49m\u001b[43mrunner\u001b[49m\u001b[43m.\u001b[49m\u001b[43mtick\u001b[49m\u001b[43m(\u001b[49m\n\u001b[32m   2658\u001b[39m \u001b[43m    \u001b[49m\u001b[43m[\u001b[49m\u001b[43mt\u001b[49m\u001b[43m \u001b[49m\u001b[38;5;28;43;01mfor\u001b[39;49;00m\u001b[43m \u001b[49m\u001b[43mt\u001b[49m\u001b[43m \u001b[49m\u001b[38;5;129;43;01min\u001b[39;49;00m\u001b[43m \u001b[49m\u001b[43mloop\u001b[49m\u001b[43m.\u001b[49m\u001b[43mtasks\u001b[49m\u001b[43m.\u001b[49m\u001b[43mvalues\u001b[49m\u001b[43m(\u001b[49m\u001b[43m)\u001b[49m\u001b[43m \u001b[49m\u001b[38;5;28;43;01mif\u001b[39;49;00m\u001b[43m \u001b[49m\u001b[38;5;129;43;01mnot\u001b[39;49;00m\u001b[43m \u001b[49m\u001b[43mt\u001b[49m\u001b[43m.\u001b[49m\u001b[43mwrites\u001b[49m\u001b[43m]\u001b[49m\u001b[43m,\u001b[49m\n\u001b[32m   2659\u001b[39m \u001b[43m    \u001b[49m\u001b[43mtimeout\u001b[49m\u001b[43m=\u001b[49m\u001b[38;5;28;43mself\u001b[39;49m\u001b[43m.\u001b[49m\u001b[43mstep_timeout\u001b[49m\u001b[43m,\u001b[49m\n\u001b[32m   2660\u001b[39m \u001b[43m    \u001b[49m\u001b[43mget_waiter\u001b[49m\u001b[43m=\u001b[49m\u001b[43mget_waiter\u001b[49m\u001b[43m,\u001b[49m\n\u001b[32m   2661\u001b[39m \u001b[43m    \u001b[49m\u001b[43mschedule_task\u001b[49m\u001b[43m=\u001b[49m\u001b[43mloop\u001b[49m\u001b[43m.\u001b[49m\u001b[43maccept_push\u001b[49m\u001b[43m,\u001b[49m\n\u001b[32m   2662\u001b[39m \u001b[43m\u001b[49m\u001b[43m)\u001b[49m\u001b[43m:\u001b[49m\n\u001b[32m   2663\u001b[39m \u001b[43m    \u001b[49m\u001b[38;5;66;43;03m# emit output\u001b[39;49;00m\n\u001b[32m   2664\u001b[39m \u001b[43m    \u001b[49m\u001b[38;5;28;43;01myield from\u001b[39;49;00m\u001b[43m \u001b[49m\u001b[43m_output\u001b[49m\u001b[43m(\u001b[49m\n\u001b[32m   2665\u001b[39m \u001b[43m        \u001b[49m\u001b[43mstream_mode\u001b[49m\u001b[43m,\u001b[49m\u001b[43m \u001b[49m\u001b[43mprint_mode\u001b[49m\u001b[43m,\u001b[49m\u001b[43m \u001b[49m\u001b[43msubgraphs\u001b[49m\u001b[43m,\u001b[49m\u001b[43m \u001b[49m\u001b[43mstream\u001b[49m\u001b[43m.\u001b[49m\u001b[43mget\u001b[49m\u001b[43m,\u001b[49m\u001b[43m \u001b[49m\u001b[43mqueue\u001b[49m\u001b[43m.\u001b[49m\u001b[43mEmpty\u001b[49m\n\u001b[32m   2666\u001b[39m \u001b[43m    \u001b[49m\u001b[43m)\u001b[49m\n\u001b[32m   2667\u001b[39m loop.after_tick()\n",
      "\u001b[36mFile \u001b[39m\u001b[32m~/miniconda3/envs/bigcon/lib/python3.12/site-packages/langgraph/pregel/_runner.py:162\u001b[39m, in \u001b[36mPregelRunner.tick\u001b[39m\u001b[34m(self, tasks, reraise, timeout, retry_policy, get_waiter, schedule_task)\u001b[39m\n\u001b[32m    160\u001b[39m t = tasks[\u001b[32m0\u001b[39m]\n\u001b[32m    161\u001b[39m \u001b[38;5;28;01mtry\u001b[39;00m:\n\u001b[32m--> \u001b[39m\u001b[32m162\u001b[39m     \u001b[43mrun_with_retry\u001b[49m\u001b[43m(\u001b[49m\n\u001b[32m    163\u001b[39m \u001b[43m        \u001b[49m\u001b[43mt\u001b[49m\u001b[43m,\u001b[49m\n\u001b[32m    164\u001b[39m \u001b[43m        \u001b[49m\u001b[43mretry_policy\u001b[49m\u001b[43m,\u001b[49m\n\u001b[32m    165\u001b[39m \u001b[43m        \u001b[49m\u001b[43mconfigurable\u001b[49m\u001b[43m=\u001b[49m\u001b[43m{\u001b[49m\n\u001b[32m    166\u001b[39m \u001b[43m            \u001b[49m\u001b[43mCONFIG_KEY_CALL\u001b[49m\u001b[43m:\u001b[49m\u001b[43m \u001b[49m\u001b[43mpartial\u001b[49m\u001b[43m(\u001b[49m\n\u001b[32m    167\u001b[39m \u001b[43m                \u001b[49m\u001b[43m_call\u001b[49m\u001b[43m,\u001b[49m\n\u001b[32m    168\u001b[39m \u001b[43m                \u001b[49m\u001b[43mweakref\u001b[49m\u001b[43m.\u001b[49m\u001b[43mref\u001b[49m\u001b[43m(\u001b[49m\u001b[43mt\u001b[49m\u001b[43m)\u001b[49m\u001b[43m,\u001b[49m\n\u001b[32m    169\u001b[39m \u001b[43m                \u001b[49m\u001b[43mretry_policy\u001b[49m\u001b[43m=\u001b[49m\u001b[43mretry_policy\u001b[49m\u001b[43m,\u001b[49m\n\u001b[32m    170\u001b[39m \u001b[43m                \u001b[49m\u001b[43mfutures\u001b[49m\u001b[43m=\u001b[49m\u001b[43mweakref\u001b[49m\u001b[43m.\u001b[49m\u001b[43mref\u001b[49m\u001b[43m(\u001b[49m\u001b[43mfutures\u001b[49m\u001b[43m)\u001b[49m\u001b[43m,\u001b[49m\n\u001b[32m    171\u001b[39m \u001b[43m                \u001b[49m\u001b[43mschedule_task\u001b[49m\u001b[43m=\u001b[49m\u001b[43mschedule_task\u001b[49m\u001b[43m,\u001b[49m\n\u001b[32m    172\u001b[39m \u001b[43m                \u001b[49m\u001b[43msubmit\u001b[49m\u001b[43m=\u001b[49m\u001b[38;5;28;43mself\u001b[39;49m\u001b[43m.\u001b[49m\u001b[43msubmit\u001b[49m\u001b[43m,\u001b[49m\n\u001b[32m    173\u001b[39m \u001b[43m            \u001b[49m\u001b[43m)\u001b[49m\u001b[43m,\u001b[49m\n\u001b[32m    174\u001b[39m \u001b[43m        \u001b[49m\u001b[43m}\u001b[49m\u001b[43m,\u001b[49m\n\u001b[32m    175\u001b[39m \u001b[43m    \u001b[49m\u001b[43m)\u001b[49m\n\u001b[32m    176\u001b[39m     \u001b[38;5;28mself\u001b[39m.commit(t, \u001b[38;5;28;01mNone\u001b[39;00m)\n\u001b[32m    177\u001b[39m \u001b[38;5;28;01mexcept\u001b[39;00m \u001b[38;5;167;01mException\u001b[39;00m \u001b[38;5;28;01mas\u001b[39;00m exc:\n",
      "\u001b[36mFile \u001b[39m\u001b[32m~/miniconda3/envs/bigcon/lib/python3.12/site-packages/langgraph/pregel/_retry.py:42\u001b[39m, in \u001b[36mrun_with_retry\u001b[39m\u001b[34m(task, retry_policy, configurable)\u001b[39m\n\u001b[32m     40\u001b[39m     task.writes.clear()\n\u001b[32m     41\u001b[39m     \u001b[38;5;66;03m# run the task\u001b[39;00m\n\u001b[32m---> \u001b[39m\u001b[32m42\u001b[39m     \u001b[38;5;28;01mreturn\u001b[39;00m \u001b[43mtask\u001b[49m\u001b[43m.\u001b[49m\u001b[43mproc\u001b[49m\u001b[43m.\u001b[49m\u001b[43minvoke\u001b[49m\u001b[43m(\u001b[49m\u001b[43mtask\u001b[49m\u001b[43m.\u001b[49m\u001b[43minput\u001b[49m\u001b[43m,\u001b[49m\u001b[43m \u001b[49m\u001b[43mconfig\u001b[49m\u001b[43m)\u001b[49m\n\u001b[32m     43\u001b[39m \u001b[38;5;28;01mexcept\u001b[39;00m ParentCommand \u001b[38;5;28;01mas\u001b[39;00m exc:\n\u001b[32m     44\u001b[39m     ns: \u001b[38;5;28mstr\u001b[39m = config[CONF][CONFIG_KEY_CHECKPOINT_NS]\n",
      "\u001b[36mFile \u001b[39m\u001b[32m~/miniconda3/envs/bigcon/lib/python3.12/site-packages/langgraph/_internal/_runnable.py:657\u001b[39m, in \u001b[36mRunnableSeq.invoke\u001b[39m\u001b[34m(self, input, config, **kwargs)\u001b[39m\n\u001b[32m    655\u001b[39m     \u001b[38;5;66;03m# run in context\u001b[39;00m\n\u001b[32m    656\u001b[39m     \u001b[38;5;28;01mwith\u001b[39;00m set_config_context(config, run) \u001b[38;5;28;01mas\u001b[39;00m context:\n\u001b[32m--> \u001b[39m\u001b[32m657\u001b[39m         \u001b[38;5;28minput\u001b[39m = \u001b[43mcontext\u001b[49m\u001b[43m.\u001b[49m\u001b[43mrun\u001b[49m\u001b[43m(\u001b[49m\u001b[43mstep\u001b[49m\u001b[43m.\u001b[49m\u001b[43minvoke\u001b[49m\u001b[43m,\u001b[49m\u001b[43m \u001b[49m\u001b[38;5;28;43minput\u001b[39;49m\u001b[43m,\u001b[49m\u001b[43m \u001b[49m\u001b[43mconfig\u001b[49m\u001b[43m,\u001b[49m\u001b[43m \u001b[49m\u001b[43m*\u001b[49m\u001b[43m*\u001b[49m\u001b[43mkwargs\u001b[49m\u001b[43m)\u001b[49m\n\u001b[32m    658\u001b[39m \u001b[38;5;28;01melse\u001b[39;00m:\n\u001b[32m    659\u001b[39m     \u001b[38;5;28minput\u001b[39m = step.invoke(\u001b[38;5;28minput\u001b[39m, config)\n",
      "\u001b[36mFile \u001b[39m\u001b[32m~/miniconda3/envs/bigcon/lib/python3.12/site-packages/langgraph/_internal/_runnable.py:401\u001b[39m, in \u001b[36mRunnableCallable.invoke\u001b[39m\u001b[34m(self, input, config, **kwargs)\u001b[39m\n\u001b[32m    399\u001b[39m         run_manager.on_chain_end(ret)\n\u001b[32m    400\u001b[39m \u001b[38;5;28;01melse\u001b[39;00m:\n\u001b[32m--> \u001b[39m\u001b[32m401\u001b[39m     ret = \u001b[38;5;28;43mself\u001b[39;49m\u001b[43m.\u001b[49m\u001b[43mfunc\u001b[49m\u001b[43m(\u001b[49m\u001b[43m*\u001b[49m\u001b[43margs\u001b[49m\u001b[43m,\u001b[49m\u001b[43m \u001b[49m\u001b[43m*\u001b[49m\u001b[43m*\u001b[49m\u001b[43mkwargs\u001b[49m\u001b[43m)\u001b[49m\n\u001b[32m    402\u001b[39m \u001b[38;5;28;01mif\u001b[39;00m \u001b[38;5;28mself\u001b[39m.recurse \u001b[38;5;129;01mand\u001b[39;00m \u001b[38;5;28misinstance\u001b[39m(ret, Runnable):\n\u001b[32m    403\u001b[39m     \u001b[38;5;28;01mreturn\u001b[39;00m ret.invoke(\u001b[38;5;28minput\u001b[39m, config)\n",
      "\u001b[36mFile \u001b[39m\u001b[32m/mnt/c/Users/rladl/Desktop/bigcontest_2025/2025_shcard_bigcontest/baseline 2/agents/strategy_supervisor.py:58\u001b[39m, in \u001b[36mmerge_supervisor_node\u001b[39m\u001b[34m(state)\u001b[39m\n\u001b[32m     55\u001b[39m     logs.append(\u001b[33m\"\u001b[39m\u001b[33m[WARNING] resource_json 누락\u001b[39m\u001b[33m\"\u001b[39m)\n\u001b[32m     57\u001b[39m \u001b[38;5;66;03m# 전략 카드 생성 (실제로는 LLM 기반 생성)\u001b[39;00m\n\u001b[32m---> \u001b[39m\u001b[32m58\u001b[39m strategy_card = \u001b[43m_generate_strategy_card\u001b[49m\u001b[43m(\u001b[49m\u001b[43mstate\u001b[49m\u001b[43m)\u001b[49m\n\u001b[32m     60\u001b[39m logs.append(\u001b[33mf\u001b[39m\u001b[33m\"\u001b[39m\u001b[33m[\u001b[39m\u001b[38;5;132;01m{\u001b[39;00mdatetime.now()\u001b[38;5;132;01m}\u001b[39;00m\u001b[33m] 전략 카드 생성 완료: \u001b[39m\u001b[38;5;132;01m{\u001b[39;00mstrategy_card.title\u001b[38;5;132;01m}\u001b[39;00m\u001b[33m\"\u001b[39m)\n\u001b[32m     62\u001b[39m logger.info(\u001b[33mf\u001b[39m\u001b[33m\"\u001b[39m\u001b[33m전략 카드 생성 완료: 1개\u001b[39m\u001b[33m\"\u001b[39m)\n",
      "\u001b[36mFile \u001b[39m\u001b[32m/mnt/c/Users/rladl/Desktop/bigcontest_2025/2025_shcard_bigcontest/baseline 2/agents/strategy_supervisor.py:90\u001b[39m, in \u001b[36m_generate_strategy_card\u001b[39m\u001b[34m(state)\u001b[39m\n\u001b[32m     78\u001b[39m constraints = state.get(\u001b[33m\"\u001b[39m\u001b[33mconstraints\u001b[39m\u001b[33m\"\u001b[39m, {})\n\u001b[32m     80\u001b[39m \u001b[38;5;66;03m# 기본 전략 생성\u001b[39;00m\n\u001b[32m     81\u001b[39m card = StrategyCard(\n\u001b[32m     82\u001b[39m     \u001b[38;5;28mid\u001b[39m=\u001b[33mf\u001b[39m\u001b[33m\"\u001b[39m\u001b[33mSTR-\u001b[39m\u001b[38;5;132;01m{\u001b[39;00mdatetime.now().strftime(\u001b[33m'\u001b[39m\u001b[33m%\u001b[39m\u001b[33mY\u001b[39m\u001b[33m%\u001b[39m\u001b[33mm\u001b[39m\u001b[38;5;132;01m%d\u001b[39;00m\u001b[33m'\u001b[39m)\u001b[38;5;132;01m}\u001b[39;00m\u001b[33m-001\u001b[39m\u001b[33m\"\u001b[39m,\n\u001b[32m     83\u001b[39m     card_type=\u001b[33m\"\u001b[39m\u001b[33mbase_strategy\u001b[39m\u001b[33m\"\u001b[39m,\n\u001b[32m     84\u001b[39m     title=\u001b[33m\"\u001b[39m\u001b[33m평일 런치 타겟 번들 프로모션\u001b[39m\u001b[33m\"\u001b[39m,\n\u001b[32m     85\u001b[39m     hypothesis=\u001b[33m\"\u001b[39m\u001b[33m런치 비중이 낮고 주말에 편중된 매출 구조를 평일로 분산하여 전체 매출 증대\u001b[39m\u001b[33m\"\u001b[39m,\n\u001b[32m     86\u001b[39m     why=[\n\u001b[32m     87\u001b[39m         \u001b[33mf\u001b[39m\u001b[33m\"\u001b[39m\u001b[33m주말 편중: \u001b[39m\u001b[38;5;132;01m{\u001b[39;00mcontext.get(\u001b[33m'\u001b[39m\u001b[33mmetrics\u001b[39m\u001b[33m'\u001b[39m,\u001b[38;5;250m \u001b[39m{}).get(\u001b[33m'\u001b[39m\u001b[33mderived\u001b[39m\u001b[33m'\u001b[39m,\u001b[38;5;250m \u001b[39m{}).get(\u001b[33m'\u001b[39m\u001b[33mweekend_share\u001b[39m\u001b[33m'\u001b[39m,\u001b[38;5;250m \u001b[39m\u001b[32m0.0\u001b[39m)\u001b[38;5;132;01m:\u001b[39;00m\u001b[33m.0%\u001b[39m\u001b[38;5;132;01m}\u001b[39;00m\u001b[33m\"\u001b[39m,\n\u001b[32m     88\u001b[39m         \u001b[33mf\u001b[39m\u001b[33m\"\u001b[39m\u001b[33m런치 비중: \u001b[39m\u001b[38;5;132;01m{\u001b[39;00mcontext.get(\u001b[33m'\u001b[39m\u001b[33mmetrics\u001b[39m\u001b[33m'\u001b[39m,\u001b[38;5;250m \u001b[39m{}).get(\u001b[33m'\u001b[39m\u001b[33mderived\u001b[39m\u001b[33m'\u001b[39m,\u001b[38;5;250m \u001b[39m{}).get(\u001b[33m'\u001b[39m\u001b[33mlunch_share\u001b[39m\u001b[33m'\u001b[39m,\u001b[38;5;250m \u001b[39m\u001b[32m0.0\u001b[39m)\u001b[38;5;132;01m:\u001b[39;00m\u001b[33m.0%\u001b[39m\u001b[38;5;132;01m}\u001b[39;00m\u001b[33m\"\u001b[39m\n\u001b[32m     89\u001b[39m     ],\n\u001b[32m---> \u001b[39m\u001b[32m90\u001b[39m     inputs_used=\u001b[43mInputsUsed\u001b[49m\u001b[43m(\u001b[49m\n\u001b[32m     91\u001b[39m \u001b[43m        \u001b[49m\u001b[43mcontext_version\u001b[49m\u001b[43m=\u001b[49m\u001b[33;43m\"\u001b[39;49m\u001b[33;43mctx.v1\u001b[39;49m\u001b[33;43m\"\u001b[39;49m\u001b[43m,\u001b[49m\n\u001b[32m     92\u001b[39m \u001b[43m        \u001b[49m\u001b[43msituation_signal_ids\u001b[49m\u001b[43m=\u001b[49m\u001b[43msituation\u001b[49m\u001b[43m.\u001b[49m\u001b[43mget\u001b[49m\u001b[43m(\u001b[49m\u001b[33;43m\"\u001b[39;49m\u001b[33;43msignals\u001b[39;49m\u001b[33;43m\"\u001b[39;49m\u001b[43m,\u001b[49m\u001b[43m \u001b[49m\u001b[43m[\u001b[49m\u001b[43m]\u001b[49m\u001b[43m)\u001b[49m\u001b[43m \u001b[49m\u001b[38;5;28;43;01mif\u001b[39;49;00m\u001b[43m \u001b[49m\u001b[43msituation\u001b[49m\u001b[43m.\u001b[49m\u001b[43mget\u001b[49m\u001b[43m(\u001b[49m\u001b[33;43m\"\u001b[39;49m\u001b[33;43mhas_valid_signal\u001b[39;49m\u001b[33;43m\"\u001b[39;49m\u001b[43m)\u001b[49m\u001b[43m \u001b[49m\u001b[38;5;28;43;01melse\u001b[39;49;00m\u001b[43m \u001b[49m\u001b[43m[\u001b[49m\u001b[43m]\u001b[49m\u001b[43m,\u001b[49m\n\u001b[32m     93\u001b[39m \u001b[43m        \u001b[49m\u001b[43mresource_refs\u001b[49m\u001b[43m=\u001b[49m\u001b[43mresource\u001b[49m\u001b[43m.\u001b[49m\u001b[43mget\u001b[49m\u001b[43m(\u001b[49m\u001b[33;43m\"\u001b[39;49m\u001b[33;43mresource_refs\u001b[39;49m\u001b[33;43m\"\u001b[39;49m\u001b[43m,\u001b[49m\u001b[43m \u001b[49m\u001b[43m[\u001b[49m\u001b[43m]\u001b[49m\u001b[43m)\u001b[49m\n\u001b[32m     94\u001b[39m \u001b[43m    \u001b[49m\u001b[43m)\u001b[49m,\n\u001b[32m     95\u001b[39m     target_segment=\u001b[33m\"\u001b[39m\u001b[33m직장인, 20-40대\u001b[39m\u001b[33m\"\u001b[39m,\n\u001b[32m     96\u001b[39m     channel_hints=constraints.get(\u001b[33m\"\u001b[39m\u001b[33mpreferred_channels\u001b[39m\u001b[33m\"\u001b[39m, [\u001b[33m\"\u001b[39m\u001b[33mkakao\u001b[39m\u001b[33m\"\u001b[39m, \u001b[33m\"\u001b[39m\u001b[33minstagram\u001b[39m\u001b[33m\"\u001b[39m]),\n\u001b[32m     97\u001b[39m     offer=\u001b[33m\"\u001b[39m\u001b[33m11-14시 세트 메뉴 3종, 15\u001b[39m\u001b[33m%\u001b[39m\u001b[33m 할인\u001b[39m\u001b[33m\"\u001b[39m,\n\u001b[32m     98\u001b[39m     timeline=Timeline(\n\u001b[32m     99\u001b[39m         start=datetime.now().strftime(\u001b[33m\"\u001b[39m\u001b[33m%\u001b[39m\u001b[33mY-\u001b[39m\u001b[33m%\u001b[39m\u001b[33mm-\u001b[39m\u001b[38;5;132;01m%d\u001b[39;00m\u001b[33m\"\u001b[39m),\n\u001b[32m    100\u001b[39m         end=\u001b[33m\"\u001b[39m\u001b[33m2025-11-30\u001b[39m\u001b[33m\"\u001b[39m\n\u001b[32m    101\u001b[39m     ),\n\u001b[32m    102\u001b[39m     budget=Budget(\n\u001b[32m    103\u001b[39m         cap=constraints.get(\u001b[33m\"\u001b[39m\u001b[33mbudget_krw\u001b[39m\u001b[33m\"\u001b[39m, \u001b[32m50000\u001b[39m),\n\u001b[32m    104\u001b[39m         unit=\u001b[33m\"\u001b[39m\u001b[33mKRW\u001b[39m\u001b[33m\"\u001b[39m\n\u001b[32m    105\u001b[39m     ),\n\u001b[32m    106\u001b[39m     constraints_applied=constraints,\n\u001b[32m    107\u001b[39m     kpi_targets=KPITargets(\n\u001b[32m    108\u001b[39m         primary=KPITarget(\n\u001b[32m    109\u001b[39m             metric=\u001b[33m\"\u001b[39m\u001b[33mtrans\u001b[39m\u001b[33m\"\u001b[39m,\n\u001b[32m    110\u001b[39m             target=\u001b[33m\"\u001b[39m\u001b[33m+8\u001b[39m\u001b[33m%\u001b[39m\u001b[33m/2w\u001b[39m\u001b[33m\"\u001b[39m\n\u001b[32m    111\u001b[39m         ),\n\u001b[32m    112\u001b[39m         secondary=[\n\u001b[32m    113\u001b[39m             KPITarget(metric=\u001b[33m\"\u001b[39m\u001b[33mlunch_sales\u001b[39m\u001b[33m\"\u001b[39m, target=\u001b[33m\"\u001b[39m\u001b[33m+15\u001b[39m\u001b[33m%\u001b[39m\u001b[33m/2w\u001b[39m\u001b[33m\"\u001b[39m)\n\u001b[32m    114\u001b[39m         ]\n\u001b[32m    115\u001b[39m     ),\n\u001b[32m    116\u001b[39m     assets_needed=[\n\u001b[32m    117\u001b[39m         \u001b[33m\"\u001b[39m\u001b[33mimage:lunch_set_banner\u001b[39m\u001b[33m\"\u001b[39m,\n\u001b[32m    118\u001b[39m         \u001b[33m\"\u001b[39m\u001b[33mcopy:lunch_promo_caption\u001b[39m\u001b[33m\"\u001b[39m\n\u001b[32m    119\u001b[39m     ],\n\u001b[32m    120\u001b[39m     risks=[\n\u001b[32m    121\u001b[39m         \u001b[33m\"\u001b[39m\u001b[33m직원 대응 역량 부족 시 고객 불만 발생 가능\u001b[39m\u001b[33m\"\u001b[39m,\n\u001b[32m    122\u001b[39m         \u001b[33m\"\u001b[39m\u001b[33m재료 수급 이슈 발생 시 프로모션 중단 리스크\u001b[39m\u001b[33m\"\u001b[39m\n\u001b[32m    123\u001b[39m     ],\n\u001b[32m    124\u001b[39m     evidence_chips=[\n\u001b[32m    125\u001b[39m         \u001b[33mf\u001b[39m\u001b[33m\"\u001b[39m\u001b[33m업종평균대비: \u001b[39m\u001b[38;5;132;01m{\u001b[39;00mcontext.get(\u001b[33m'\u001b[39m\u001b[33mmetrics\u001b[39m\u001b[33m'\u001b[39m,\u001b[38;5;250m \u001b[39m{}).get(\u001b[33m'\u001b[39m\u001b[33mderived\u001b[39m\u001b[33m'\u001b[39m,\u001b[38;5;250m \u001b[39m{}).get(\u001b[33m'\u001b[39m\u001b[33msame_industry_sales_ratio\u001b[39m\u001b[33m'\u001b[39m,\u001b[38;5;250m \u001b[39m\u001b[32m0.0\u001b[39m)\u001b[38;5;132;01m:\u001b[39;00m\u001b[33m.2f\u001b[39m\u001b[38;5;132;01m}\u001b[39;00m\u001b[33m\"\u001b[39m,\n\u001b[32m    126\u001b[39m         \u001b[33mf\u001b[39m\u001b[33m\"\u001b[39m\u001b[33m경쟁강도: \u001b[39m\u001b[38;5;132;01m{\u001b[39;00mcontext.get(\u001b[33m'\u001b[39m\u001b[33mmetrics\u001b[39m\u001b[33m'\u001b[39m,\u001b[38;5;250m \u001b[39m{}).get(\u001b[33m'\u001b[39m\u001b[33mderived\u001b[39m\u001b[33m'\u001b[39m,\u001b[38;5;250m \u001b[39m{}).get(\u001b[33m'\u001b[39m\u001b[33mcomp_intensity\u001b[39m\u001b[33m'\u001b[39m,\u001b[38;5;250m \u001b[39m\u001b[32m0.0\u001b[39m)\u001b[38;5;132;01m:\u001b[39;00m\u001b[33m.2f\u001b[39m\u001b[38;5;132;01m}\u001b[39;00m\u001b[33m\"\u001b[39m\n\u001b[32m    127\u001b[39m     ],\n\u001b[32m    128\u001b[39m     tracking=Tracking(\n\u001b[32m    129\u001b[39m         metric_keys=[\u001b[33m\"\u001b[39m\u001b[33mlunch_sales\u001b[39m\u001b[33m\"\u001b[39m, \u001b[33m\"\u001b[39m\u001b[33mtrans\u001b[39m\u001b[33m\"\u001b[39m, \u001b[33m\"\u001b[39m\u001b[33mrepeat_rate\u001b[39m\u001b[33m\"\u001b[39m]\n\u001b[32m    130\u001b[39m     ),\n\u001b[32m    131\u001b[39m     assumptions=[\n\u001b[32m    132\u001b[39m         \u001b[33m\"\u001b[39m\u001b[33m직원 1명 1시간/일 확보 가능\u001b[39m\u001b[33m\"\u001b[39m,\n\u001b[32m    133\u001b[39m         \u001b[33m\"\u001b[39m\u001b[33m세트 메뉴 원가율 65\u001b[39m\u001b[33m%\u001b[39m\u001b[33m 가정\u001b[39m\u001b[33m\"\u001b[39m\n\u001b[32m    134\u001b[39m     ],\n\u001b[32m    135\u001b[39m     references=[\n\u001b[32m    136\u001b[39m         {\u001b[33m\"\u001b[39m\u001b[33mtype\u001b[39m\u001b[33m\"\u001b[39m: \u001b[33m\"\u001b[39m\u001b[33mdb\u001b[39m\u001b[33m\"\u001b[39m, \u001b[33m\"\u001b[39m\u001b[33mtable\u001b[39m\u001b[33m\"\u001b[39m: \u001b[33m\"\u001b[39m\u001b[33mstore_metrics_daily\u001b[39m\u001b[33m\"\u001b[39m},\n\u001b[32m    137\u001b[39m         {\u001b[33m\"\u001b[39m\u001b[33mtype\u001b[39m\u001b[33m\"\u001b[39m: \u001b[33m\"\u001b[39m\u001b[33mctx\u001b[39m\u001b[33m\"\u001b[39m, \u001b[33m\"\u001b[39m\u001b[33mfield\u001b[39m\u001b[33m\"\u001b[39m: \u001b[33m\"\u001b[39m\u001b[33mmetrics.derived.lunch_share\u001b[39m\u001b[33m\"\u001b[39m}\n\u001b[32m    138\u001b[39m     ],\n\u001b[32m    139\u001b[39m     contract_version=\u001b[33m\"\u001b[39m\u001b[33mstrategy.v1\u001b[39m\u001b[33m\"\u001b[39m\n\u001b[32m    140\u001b[39m )\n\u001b[32m    142\u001b[39m \u001b[38;5;28;01mreturn\u001b[39;00m card\n",
      "\u001b[36mFile \u001b[39m\u001b[32m~/miniconda3/envs/bigcon/lib/python3.12/site-packages/pydantic/main.py:253\u001b[39m, in \u001b[36mBaseModel.__init__\u001b[39m\u001b[34m(self, **data)\u001b[39m\n\u001b[32m    251\u001b[39m \u001b[38;5;66;03m# `__tracebackhide__` tells pytest and some other tools to omit this function from tracebacks\u001b[39;00m\n\u001b[32m    252\u001b[39m __tracebackhide__ = \u001b[38;5;28;01mTrue\u001b[39;00m\n\u001b[32m--> \u001b[39m\u001b[32m253\u001b[39m validated_self = \u001b[38;5;28;43mself\u001b[39;49m\u001b[43m.\u001b[49m\u001b[43m__pydantic_validator__\u001b[49m\u001b[43m.\u001b[49m\u001b[43mvalidate_python\u001b[49m\u001b[43m(\u001b[49m\u001b[43mdata\u001b[49m\u001b[43m,\u001b[49m\u001b[43m \u001b[49m\u001b[43mself_instance\u001b[49m\u001b[43m=\u001b[49m\u001b[38;5;28;43mself\u001b[39;49m\u001b[43m)\u001b[49m\n\u001b[32m    254\u001b[39m \u001b[38;5;28;01mif\u001b[39;00m \u001b[38;5;28mself\u001b[39m \u001b[38;5;129;01mis\u001b[39;00m \u001b[38;5;129;01mnot\u001b[39;00m validated_self:\n\u001b[32m    255\u001b[39m     warnings.warn(\n\u001b[32m    256\u001b[39m         \u001b[33m'\u001b[39m\u001b[33mA custom validator is returning a value other than `self`.\u001b[39m\u001b[38;5;130;01m\\n\u001b[39;00m\u001b[33m'\u001b[39m\n\u001b[32m    257\u001b[39m         \u001b[33m\"\u001b[39m\u001b[33mReturning anything other than `self` from a top level model validator isn\u001b[39m\u001b[33m'\u001b[39m\u001b[33mt supported when validating via `__init__`.\u001b[39m\u001b[38;5;130;01m\\n\u001b[39;00m\u001b[33m\"\u001b[39m\n\u001b[32m    258\u001b[39m         \u001b[33m'\u001b[39m\u001b[33mSee the `model_validator` docs (https://docs.pydantic.dev/latest/concepts/validators/#model-validators) for more details.\u001b[39m\u001b[33m'\u001b[39m,\n\u001b[32m    259\u001b[39m         stacklevel=\u001b[32m2\u001b[39m,\n\u001b[32m    260\u001b[39m     )\n",
      "\u001b[31mValidationError\u001b[39m: 2 validation errors for InputsUsed\nsituation_signal_ids.0\n  Input should be a valid string [type=string_type, input_value={'signal_id': 'WX-2025101...on': 'POP≥60% 충족'}, input_type=dict]\n    For further information visit https://errors.pydantic.dev/2.11/v/string_type\nsituation_signal_ids.1\n  Input should be a valid string [type=string_type, input_value={'signal_id': 'EV-2025101...내 대규모 행사'}, input_type=dict]\n    For further information visit https://errors.pydantic.dev/2.11/v/string_type",
      "During task with name 'merge_supervisor' and id '983bf50f-51ba-81c4-016e-8a1d154a45d3'"
     ]
    }
   ],
   "source": [
    "# 테스트 케이스 2 (상황 인식 포함)\n",
    "result2 = test_full_graph(\n",
    "    \"이번 주 비 온다는데 매출 영향 있을까?\",\n",
    "    budget=100000,\n",
    "    channels=[\"instagram\", \"kakao\"]\n",
    ")"
   ]
  },
  {
   "cell_type": "code",
   "execution_count": 13,
   "metadata": {},
   "outputs": [
    {
     "name": "stderr",
     "output_type": "stream",
     "text": [
      "\u001b[32m2025-10-14 00:59:38.057\u001b[0m | \u001b[1mINFO    \u001b[0m | \u001b[36magents.strategy_supervisor\u001b[0m:\u001b[36mstrategy_supervisor_node\u001b[0m:\u001b[36m17\u001b[0m - \u001b[1mStrategy Supervisor: 시작\u001b[0m\n",
      "\u001b[32m2025-10-14 00:59:38.058\u001b[0m | \u001b[1mINFO    \u001b[0m | \u001b[36magents.strategy_supervisor\u001b[0m:\u001b[36mstrategy_supervisor_node\u001b[0m:\u001b[36m26\u001b[0m - \u001b[1mIntent detected: strategy\u001b[0m\n",
      "\u001b[32m2025-10-14 00:59:38.060\u001b[0m | \u001b[1mINFO    \u001b[0m | \u001b[36magents.context_agent\u001b[0m:\u001b[36mcontext_agent_node\u001b[0m:\u001b[36m18\u001b[0m - \u001b[1mContext Agent: 시작\u001b[0m\n",
      "\u001b[32m2025-10-14 00:59:38.062\u001b[0m | \u001b[1mINFO    \u001b[0m | \u001b[36magents.context_agent\u001b[0m:\u001b[36mcontext_agent_node\u001b[0m:\u001b[36m23\u001b[0m - \u001b[1mContext Agent: 완료\u001b[0m\n",
      "\u001b[32m2025-10-14 00:59:38.063\u001b[0m | \u001b[1mINFO    \u001b[0m | \u001b[36magents.resource_agent\u001b[0m:\u001b[36mresource_agent_node\u001b[0m:\u001b[36m18\u001b[0m - \u001b[1mResource Agent: 시작\u001b[0m\n",
      "\u001b[32m2025-10-14 00:59:38.065\u001b[0m | \u001b[1mINFO    \u001b[0m | \u001b[36magents.situation_agent\u001b[0m:\u001b[36msituation_agent_node\u001b[0m:\u001b[36m18\u001b[0m - \u001b[1mSituation Agent: 시작\u001b[0m\n",
      "\u001b[32m2025-10-14 00:59:38.066\u001b[0m | \u001b[1mINFO    \u001b[0m | \u001b[36magents.resource_agent\u001b[0m:\u001b[36mresource_agent_node\u001b[0m:\u001b[36m22\u001b[0m - \u001b[1mResource Agent: 완료\u001b[0m\n",
      "\u001b[32m2025-10-14 00:59:38.066\u001b[0m | \u001b[1mINFO    \u001b[0m | \u001b[36magents.situation_agent\u001b[0m:\u001b[36msituation_agent_node\u001b[0m:\u001b[36m22\u001b[0m - \u001b[1m상황 분석 불필요\u001b[0m\n",
      "\u001b[32m2025-10-14 00:59:38.069\u001b[0m | \u001b[1mINFO    \u001b[0m | \u001b[36magents.strategy_supervisor\u001b[0m:\u001b[36mmerge_supervisor_node\u001b[0m:\u001b[36m41\u001b[0m - \u001b[1mMerge Supervisor: 데이터 통합 시작\u001b[0m\n",
      "\u001b[32m2025-10-14 00:59:38.070\u001b[0m | \u001b[1mINFO    \u001b[0m | \u001b[36magents.strategy_supervisor\u001b[0m:\u001b[36mmerge_supervisor_node\u001b[0m:\u001b[36m62\u001b[0m - \u001b[1m전략 카드 생성 완료: 1개\u001b[0m\n",
      "\u001b[32m2025-10-14 00:59:38.071\u001b[0m | \u001b[1mINFO    \u001b[0m | \u001b[36magents.evaluation_agent\u001b[0m:\u001b[36mevaluation_agent_node\u001b[0m:\u001b[36m19\u001b[0m - \u001b[1mEvaluation Agent: 시작\u001b[0m\n",
      "\u001b[32m2025-10-14 00:59:38.073\u001b[0m | \u001b[1mINFO    \u001b[0m | \u001b[36magents.evaluation_agent\u001b[0m:\u001b[36mevaluation_agent_node\u001b[0m:\u001b[36m31\u001b[0m - \u001b[1mEvaluation Agent: 완료 (심각도: low)\u001b[0m\n"
     ]
    },
    {
     "name": "stdout",
     "output_type": "stream",
     "text": [
      "============================================================\n",
      "질문: 주말 고객을 평일로 분산시키고 싶어.\n",
      "============================================================\n",
      "\n",
      "🚀 그래프 실행 중...\n",
      "\n",
      "\n",
      "============================================================\n",
      "최종 결과\n",
      "============================================================\n",
      "\n",
      "🎯 Intent: strategy\n",
      "\n",
      "📊 생성된 전략: 1개\n",
      "\n",
      "  [1] 평일 런치 타겟 번들 프로모션\n",
      "      타겟: 직장인, 20-40대\n",
      "      제안: 11-14시 세트 메뉴 3종, 15% 할인\n",
      "\n",
      "✅ 평가: 카드 1건 중 1건 적합, 0건 수정 권고\n",
      "   심각도: low\n",
      "\n",
      "📝 실행 로그 (마지막 5개):\n",
      "   [2025-10-14 00:59:38.067677] resource_agent: 리소스 매칭 완료\n",
      "   [2025-10-14 00:59:38.068822] situation_agent: 스킵 (관련 키워드 없음)\n",
      "   [2025-10-14 00:59:38.070165] merge_supervisor: 3개 에이전트 결과 통합\n",
      "   [2025-10-14 00:59:38.070305] 전략 카드 생성 완료: 평일 런치 타겟 번들 프로모션\n",
      "   [2025-10-14 00:59:38.074219] evaluation_agent: 평가 완료 (심각도: low)\n"
     ]
    }
   ],
   "source": [
    "# 테스트 케이스 3\n",
    "result3 = test_full_graph(\n",
    "    \"주말 고객을 평일로 분산시키고 싶어.\",\n",
    "    budget=200000,\n",
    "    channels=[\"instagram\", \"facebook\"]\n",
    ")"
   ]
  },
  {
   "cell_type": "code",
   "execution_count": 18,
   "metadata": {},
   "outputs": [
    {
     "data": {
      "image/png": "[encoded data removed]",
      "text/plain": [
       "<langgraph.graph.state.CompiledStateGraph object at 0x7a6544358bf0>"
      ]
     },
     "execution_count": 18,
     "metadata": {},
     "output_type": "execute_result"
    }
   ],
   "source": [
    "from typing import Literal, TypedDict, Annotated\n",
    "from langgraph.graph import StateGraph, END\n",
    "import operator\n",
    "\n",
    "from agents.strategy_supervisor import strategy_supervisor_node, merge_supervisor_node\n",
    "from agents.context_agent import context_agent_node\n",
    "from agents.situation_agent import situation_agent_node\n",
    "from agents.resource_agent import resource_agent_node\n",
    "from agents.evaluation_agent import evaluation_agent_node\n",
    "\n",
    "\n",
    "class AgentState(TypedDict):\n",
    "    \"\"\"중앙 상태 관리 - TypedDict 사용\"\"\"\n",
    "    user_query: str\n",
    "    intent: str\n",
    "    constraints: dict\n",
    "    \n",
    "    # 데이터 수집 결과\n",
    "    context_json: dict | None\n",
    "    situation_json: dict | None\n",
    "    resource_json: dict | None\n",
    "    \n",
    "    # 전략 생성 결과\n",
    "    strategy_cards: list[dict]\n",
    "    \n",
    "    # 평가 결과\n",
    "    eval_report: dict | None\n",
    "    batch_eval_result: dict | None\n",
    "    \n",
    "    # 로그 - 병렬 처리를 위해 Annotated 사용\n",
    "    logs: Annotated[list[str], operator.add]\n",
    "\n",
    "\n",
    "\n",
    "\"\"\"\n",
    "LangGraph 조립\n",
    "\n",
    "흐름:\n",
    "1. strategy_supervisor (엔트리)\n",
    "2. context_agent, situation_agent, resource_agent (병렬)\n",
    "3. merge_supervisor (데이터 통합 및 전략 생성)\n",
    "4. evaluation_agent (전략 평가)\n",
    "5. END\n",
    "\"\"\"\n",
    "builder = StateGraph(AgentState)\n",
    "\n",
    "# 노드 등록\n",
    "builder.add_node(\"strategy_supervisor\", strategy_supervisor_node)\n",
    "builder.add_node(\"context_agent\", context_agent_node)\n",
    "builder.add_node(\"situation_agent\", situation_agent_node)\n",
    "builder.add_node(\"resource_agent\", resource_agent_node)\n",
    "builder.add_node(\"merge_supervisor\", merge_supervisor_node)\n",
    "builder.add_node(\"evaluation_agent\", evaluation_agent_node)\n",
    "\n",
    "# 엔트리 포인트\n",
    "builder.set_entry_point(\"strategy_supervisor\")\n",
    "\n",
    "# 병렬 실행: 3개 에이전트 동시 실행\n",
    "builder.add_edge(\"strategy_supervisor\", \"context_agent\")\n",
    "builder.add_edge(\"strategy_supervisor\", \"situation_agent\")\n",
    "builder.add_edge(\"strategy_supervisor\", \"resource_agent\")\n",
    "\n",
    "# 병렬 완료 후 merge로 수렴\n",
    "builder.add_edge(\"context_agent\", \"merge_supervisor\")\n",
    "builder.add_edge(\"situation_agent\", \"merge_supervisor\")\n",
    "builder.add_edge(\"resource_agent\", \"merge_supervisor\")\n",
    "\n",
    "# 평가 및 종료\n",
    "builder.add_edge(\"merge_supervisor\", \"evaluation_agent\")\n",
    "builder.add_edge(\"evaluation_agent\", END)\n",
    "\n",
    "builder.compile()\n",
    "\n"
   ]
  },
  {
   "cell_type": "markdown",
   "metadata": {},
   "source": [
    "## 6. 상세 결과 분석"
   ]
  },
  {
   "cell_type": "code",
   "execution_count": 14,
   "metadata": {},
   "outputs": [
    {
     "name": "stdout",
     "output_type": "stream",
     "text": [
      "============================================================\n",
      "상세 분석\n",
      "============================================================\n",
      "\n",
      "📊 컨텍스트 분석:\n",
      "\n",
      "  경쟁 환경:\n",
      "    경쟁강도: ███████ 0.74\n",
      "\n",
      "  운영 패턴:\n",
      "    주말편중: ████████████ 62.0%\n",
      "    런치비중: ███ 18.0%\n",
      "\n",
      "📈 전략 분석:\n",
      "\n",
      "  [전략 1]\n",
      "    제목: 평일 런치 타겟 번들 프로모션\n",
      "    근거 개수: 2\n",
      "    위험 개수: 2\n",
      "    예산: 50,000원\n",
      "\n",
      "✅ 평가 분석:\n",
      "    합격률: 1/1 (100%)\n",
      "    심각도: low\n"
     ]
    }
   ],
   "source": [
    "def analyze_result(state):\n",
    "    \"\"\"결과 상세 분석\"\"\"\n",
    "    print(\"=\"*60)\n",
    "    print(\"상세 분석\")\n",
    "    print(\"=\"*60)\n",
    "    \n",
    "    # Context 분석\n",
    "    context = state.get('context_json', {})\n",
    "    if context:\n",
    "        print(\"\\n📊 컨텍스트 분석:\")\n",
    "        metrics = context.get('metrics', {})\n",
    "        derived = metrics.get('derived', {})\n",
    "        \n",
    "        # 핵심 지표 시각화\n",
    "        print(f\"\\n  경쟁 환경:\")\n",
    "        comp = derived.get('comp_intensity', 0)\n",
    "        print(f\"    경쟁강도: {'█' * int(comp * 10)} {comp:.2f}\")\n",
    "        \n",
    "        print(f\"\\n  운영 패턴:\")\n",
    "        weekend = derived.get('weekend_share', 0)\n",
    "        lunch = derived.get('lunch_share', 0)\n",
    "        print(f\"    주말편중: {'█' * int(weekend * 20)} {weekend:.1%}\")\n",
    "        print(f\"    런치비중: {'█' * int(lunch * 20)} {lunch:.1%}\")\n",
    "    \n",
    "    # 전략 분석\n",
    "    cards = state.get('strategy_cards', [])\n",
    "    if cards:\n",
    "        print(\"\\n📈 전략 분석:\")\n",
    "        for idx, card in enumerate(cards, 1):\n",
    "            print(f\"\\n  [전략 {idx}]\")\n",
    "            print(f\"    제목: {card.get('title')}\")\n",
    "            print(f\"    근거 개수: {len(card.get('why', []))}\")\n",
    "            print(f\"    위험 개수: {len(card.get('risks', []))}\")\n",
    "            \n",
    "            # 예산 효율성\n",
    "            budget = card.get('budget', {}).get('cap', 0)\n",
    "            print(f\"    예산: {budget:,}원\")\n",
    "    \n",
    "    # 평가 분석\n",
    "    eval_report = state.get('eval_report', {})\n",
    "    if eval_report:\n",
    "        print(\"\\n✅ 평가 분석:\")\n",
    "        checks = eval_report.get('checks', [])\n",
    "        total = len(checks)\n",
    "        passed = sum(1 for c in checks if c.get('constraint_fit') and c.get('evidence_match'))\n",
    "        \n",
    "        print(f\"    합격률: {passed}/{total} ({passed/total*100:.0f}%)\")\n",
    "        print(f\"    심각도: {eval_report.get('severity')}\")\n",
    "\n",
    "# 분석 실행\n",
    "analyze_result(result1)"
   ]
  },
  {
   "cell_type": "markdown",
   "metadata": {},
   "source": [
    "## 7. Store Resolver Agent 테스트"
   ]
  },
  {
   "cell_type": "code",
   "execution_count": null,
   "metadata": {},
   "outputs": [],
   "source": [
    "def export_result(state, filename='result.json'):\n",
    "    \"\"\"결과를 JSON 파일로 저장\"\"\"\n",
    "    with open(filename, 'w', encoding='utf-8') as f:\n",
    "        json.dump(state, f, ensure_ascii=False, indent=2)\n",
    "    print(f\"✅ 결과 저장: {filename}\")\n",
    "\n",
    "# 결과 저장\n",
    "# export_result(result1, 'test_result_1.json')"
   ]
  },
  {
   "cell_type": "markdown",
   "metadata": {},
   "source": [
    "## 8. 결과 내보내기"
   ]
  },
  {
   "cell_type": "code",
   "execution_count": null,
   "metadata": {},
   "outputs": [],
   "source": [
    "print(\"=\"*60)\n",
    "print(\"전체 그래프 테스트 (Store Resolver 포함)\")\n",
    "print(\"=\"*60)\n",
    "\n",
    "# 새로운 그래프 import (store_resolver가 포함된 버전)\n",
    "from agents.graph import marketing_graph\n",
    "\n",
    "# 테스트 질의\n",
    "test_query = \"강남 카페베네에서 평일 점심 매출 늘리고 싶어. 예산 5만원.\"\n",
    "\n",
    "# 초기 상태 (store resolver 필드 추가)\n",
    "initial_state = {\n",
    "    \"user_query\": test_query,\n",
    "    \"intent\": \"\",\n",
    "    \"constraints\": {\n",
    "        \"budget_krw\": 50000,\n",
    "        \"budget_tier\": \"low\",\n",
    "        \"preferred_channels\": [\"kakao\"]\n",
    "    },\n",
    "    # Store resolution 필드\n",
    "    \"resolved_stores\": [],\n",
    "    \"store_ids\": [],\n",
    "    \"primary_store_id\": None,\n",
    "    \"store_search_query\": None,\n",
    "    \"store_verification_status\": None,\n",
    "    # 기타 필드\n",
    "    \"context_json\": None,\n",
    "    \"situation_json\": None,\n",
    "    \"resource_json\": None,\n",
    "    \"strategy_cards\": [],\n",
    "    \"eval_report\": None,\n",
    "    \"batch_eval_result\": None,\n",
    "    \"logs\": []\n",
    "}\n",
    "\n",
    "print(f\"\\n질문: {test_query}\")\n",
    "print(\"\\n🚀 그래프 실행 중...\\n\")\n",
    "\n",
    "# 그래프 실행\n",
    "final_state = marketing_graph.invoke(initial_state)\n",
    "\n",
    "# 결과 출력\n",
    "print(\"\\n\" + \"=\"*60)\n",
    "print(\"최종 결과\")\n",
    "print(\"=\"*60)\n",
    "\n",
    "# Store Resolution 결과\n",
    "resolved_stores = final_state.get('resolved_stores', [])\n",
    "primary_store_id = final_state.get('primary_store_id')\n",
    "print(f\"\\n🏪 가맹점 해소:\")\n",
    "print(f\"   발견: {len(resolved_stores)}개\")\n",
    "print(f\"   주 대상: {primary_store_id}\")\n",
    "if resolved_stores:\n",
    "    primary_store = resolved_stores[0] if resolved_stores else {}\n",
    "    print(f\"   상호명: {primary_store.get('상호명', 'N/A')}\")\n",
    "    print(f\"   주소: {primary_store.get('주소', 'N/A')}\")\n",
    "\n",
    "# Intent\n",
    "print(f\"\\n🎯 Intent: {final_state.get('intent')}\")\n",
    "\n",
    "# 전략 카드\n",
    "cards = final_state.get('strategy_cards', [])\n",
    "print(f\"\\n📊 생성된 전략: {len(cards)}개\")\n",
    "for idx, card in enumerate(cards, 1):\n",
    "    print(f\"\\n  [{idx}] {card.get('title')}\")\n",
    "    print(f\"      타겟: {card.get('target_segment')}\")\n",
    "    print(f\"      제안: {card.get('offer')}\")\n",
    "\n",
    "# 평가\n",
    "eval_report = final_state.get('eval_report', {})\n",
    "if eval_report:\n",
    "    print(f\"\\n✅ 평가: {eval_report.get('summary')}\")\n",
    "    print(f\"   심각도: {eval_report.get('severity')}\")\n",
    "\n",
    "# 로그 (마지막 10개)\n",
    "logs = final_state.get('logs', [])\n",
    "print(f\"\\n📝 실행 로그 (마지막 10개):\")\n",
    "for log in logs[-10:]:\n",
    "    print(f\"   {log}\")"
   ]
  },
  {
   "cell_type": "markdown",
   "metadata": {},
   "source": [
    "### 7.2 Store Resolver + 전체 그래프 통합 테스트"
   ]
  },
  {
   "cell_type": "markdown",
   "metadata": {},
   "source": [
    "### 7.1 Store Resolver 단독 테스트"
   ]
  },
  {
   "cell_type": "code",
   "execution_count": null,
   "metadata": {},
   "outputs": [],
   "source": [
    "print(\"=\"*60)\n",
    "print(\"Store Resolver Agent 테스트\")\n",
    "print(\"=\"*60)\n",
    "\n",
    "from agents.store_resolver_agent import store_resolver_node\n",
    "\n",
    "# 테스트 케이스\n",
    "test_queries = [\n",
    "    \"강남 카페베네에서 프로모션 추천해줘\",\n",
    "    \"역삼동 카페 매출 늘리고 싶어\",\n",
    "    \"스타벅스 강남점 마케팅 전략\"\n",
    "]\n",
    "\n",
    "for idx, query in enumerate(test_queries, 1):\n",
    "    print(f\"\\n[테스트 {idx}] 질문: {query}\")\n",
    "    print(\"-\" * 60)\n",
    "    \n",
    "    # 초기 상태\n",
    "    test_state = {\n",
    "        \"user_query\": query,\n",
    "        \"logs\": []\n",
    "    }\n",
    "    \n",
    "    # Store Resolver 실행\n",
    "    result = store_resolver_node(test_state)\n",
    "    \n",
    "    # 결과 출력\n",
    "    resolved_stores = result.get('resolved_stores', [])\n",
    "    store_ids = result.get('store_ids', [])\n",
    "    primary_store_id = result.get('primary_store_id')\n",
    "    search_query = result.get('store_search_query')\n",
    "    \n",
    "    print(f\"\\n검색 쿼리: '{search_query}'\")\n",
    "    print(f\"발견된 가맹점: {len(resolved_stores)}개\")\n",
    "    print(f\"중복 제거 후: {len(store_ids)}개\")\n",
    "    print(f\"주 대상 가맹점: {primary_store_id}\")\n",
    "    \n",
    "    if resolved_stores:\n",
    "        print(f\"\\n가맹점 상세:\")\n",
    "        for i, store in enumerate(resolved_stores[:3], 1):  # 최대 3개만 표시\n",
    "            print(f\"\\n  [{i}] {store.get('상호명')}\")\n",
    "            print(f\"      ID: {store.get('가맹점구분번호')}\")\n",
    "            print(f\"      주소: {store.get('주소')}\")\n",
    "            print(f\"      업종: {store.get('업종')}\")\n",
    "            print(f\"      월평균매출: {store.get('월평균매출', 0):,}원\")\n",
    "            print(f\"      재방문율: {store.get('재방문율', 0)}%\")\n",
    "    else:\n",
    "        print(f\"\\n⚠️ 가맹점을 찾을 수 없습니다.\")\n",
    "    \n",
    "    # 로그 출력\n",
    "    logs = result.get('logs', [])\n",
    "    if logs:\n",
    "        print(f\"\\n실행 로그:\")\n",
    "        for log in logs:\n",
    "            print(f\"  {log}\")\n",
    "    \n",
    "    print(\"\\n\" + \"=\"*60)"
   ]
  },
  {
   "cell_type": "markdown",
   "metadata": {},
   "source": [
    "### 7.2 Store Resolver + 전체 그래프 통합 테스트"
   ]
  },
  {
   "cell_type": "code",
   "execution_count": null,
   "metadata": {},
   "outputs": [],
   "source": [
    "print(\"=\"*60)\n",
    "print(\"전체 그래프 테스트 (Store Resolver 포함)\")\n",
    "print(\"=\"*60)\n",
    "\n",
    "# 새로운 그래프 import (store_resolver가 포함된 버전)\n",
    "from agents.graph import marketing_graph\n",
    "\n",
    "# 테스트 질의\n",
    "test_query = \"강남 카페베네에서 평일 점심 매출 늘리고 싶어. 예산 5만원.\"\n",
    "\n",
    "# 초기 상태 (store resolver 필드 추가)\n",
    "initial_state = {\n",
    "    \"user_query\": test_query,\n",
    "    \"intent\": \"\",\n",
    "    \"constraints\": {\n",
    "        \"budget_krw\": 50000,\n",
    "        \"budget_tier\": \"low\",\n",
    "        \"preferred_channels\": [\"kakao\"]\n",
    "    },\n",
    "    # Store resolution 필드\n",
    "    \"resolved_stores\": [],\n",
    "    \"store_ids\": [],\n",
    "    \"primary_store_id\": None,\n",
    "    \"store_search_query\": None,\n",
    "    \"store_verification_status\": None,\n",
    "    # 기타 필드\n",
    "    \"context_json\": None,\n",
    "    \"situation_json\": None,\n",
    "    \"resource_json\": None,\n",
    "    \"strategy_cards\": [],\n",
    "    \"eval_report\": None,\n",
    "    \"batch_eval_result\": None,\n",
    "    \"logs\": []\n",
    "}\n",
    "\n",
    "print(f\"\\n질문: {test_query}\")\n",
    "print(\"\\n🚀 그래프 실행 중...\\n\")\n",
    "\n",
    "# 그래프 실행\n",
    "final_state = marketing_graph.invoke(initial_state)\n",
    "\n",
    "# 결과 출력\n",
    "print(\"\\n\" + \"=\"*60)\n",
    "print(\"최종 결과\")\n",
    "print(\"=\"*60)\n",
    "\n",
    "# Store Resolution 결과\n",
    "resolved_stores = final_state.get('resolved_stores', [])\n",
    "primary_store_id = final_state.get('primary_store_id')\n",
    "print(f\"\\n🏪 가맹점 해소:\")\n",
    "print(f\"   발견: {len(resolved_stores)}개\")\n",
    "print(f\"   주 대상: {primary_store_id}\")\n",
    "if resolved_stores:\n",
    "    primary_store = resolved_stores[0] if resolved_stores else {}\n",
    "    print(f\"   상호명: {primary_store.get('상호명', 'N/A')}\")\n",
    "    print(f\"   주소: {primary_store.get('주소', 'N/A')}\")\n",
    "\n",
    "# Intent\n",
    "print(f\"\\n🎯 Intent: {final_state.get('intent')}\")\n",
    "\n",
    "# 전략 카드\n",
    "cards = final_state.get('strategy_cards', [])\n",
    "print(f\"\\n📊 생성된 전략: {len(cards)}개\")\n",
    "for idx, card in enumerate(cards, 1):\n",
    "    print(f\"\\n  [{idx}] {card.get('title')}\")\n",
    "    print(f\"      타겟: {card.get('target_segment')}\")\n",
    "    print(f\"      제안: {card.get('offer')}\")\n",
    "\n",
    "# 평가\n",
    "eval_report = final_state.get('eval_report', {})\n",
    "if eval_report:\n",
    "    print(f\"\\n✅ 평가: {eval_report.get('summary')}\")\n",
    "    print(f\"   심각도: {eval_report.get('severity')}\")\n",
    "\n",
    "# 로그 (마지막 10개)\n",
    "logs = final_state.get('logs', [])\n",
    "print(f\"\\n📝 실행 로그 (마지막 10개):\")\n",
    "for log in logs[-10:]:\n",
    "    print(f\"   {log}\")"
   ]
  }
 ],
 "metadata": {
  "kernelspec": {
   "display_name": "bigcon",
   "language": "python",
   "name": "python3"
  },
  "language_info": {
   "codemirror_mode": {
    "name": "ipython",
    "version": 3
   },
   "file_extension": ".py",
   "mimetype": "text/x-python",
   "name": "python",
   "nbconvert_exporter": "python",
   "pygments_lexer": "ipython3",
   "version": "3.12.11"
  }
 },
 "nbformat": 4,
 "nbformat_minor": 4
}
