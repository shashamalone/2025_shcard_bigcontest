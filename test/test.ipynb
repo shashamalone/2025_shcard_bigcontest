{
 "cells": [
  {
   "cell_type": "code",
   "execution_count": 2,
   "id": "3509126e",
   "metadata": {},
   "outputs": [
    {
     "name": "stdout",
     "output_type": "stream",
     "text": [
      "============================================================\n",
      "📊 그래프 컴파일 결과\n",
      "============================================================\n"
     ]
    },
    {
     "ename": "NameError",
     "evalue": "name 'build_workflow' is not defined",
     "output_type": "error",
     "traceback": [
      "\u001b[31m---------------------------------------------------------------------------\u001b[39m",
      "\u001b[31mNameError\u001b[39m                                 Traceback (most recent call last)",
      "\u001b[36mCell\u001b[39m\u001b[36m \u001b[39m\u001b[32mIn[2]\u001b[39m\u001b[32m, line 53\u001b[39m\n\u001b[32m     50\u001b[39m     \u001b[38;5;28mprint\u001b[39m(\u001b[33m\"\u001b[39m\u001b[33m=\u001b[39m\u001b[33m\"\u001b[39m * \u001b[32m60\u001b[39m)\n\u001b[32m     52\u001b[39m \u001b[38;5;28;01mif\u001b[39;00m \u001b[34m__name__\u001b[39m == \u001b[33m\"\u001b[39m\u001b[33m__main__\u001b[39m\u001b[33m\"\u001b[39m:\n\u001b[32m---> \u001b[39m\u001b[32m53\u001b[39m     \u001b[43mvisualize_graph_structure\u001b[49m\u001b[43m(\u001b[49m\u001b[43m)\u001b[49m\n",
      "\u001b[36mCell\u001b[39m\u001b[36m \u001b[39m\u001b[32mIn[2]\u001b[39m\u001b[32m, line 21\u001b[39m, in \u001b[36mvisualize_graph_structure\u001b[39m\u001b[34m()\u001b[39m\n\u001b[32m     18\u001b[39m \u001b[38;5;28mprint\u001b[39m(\u001b[33m\"\u001b[39m\u001b[33m=\u001b[39m\u001b[33m\"\u001b[39m * \u001b[32m60\u001b[39m)\n\u001b[32m     20\u001b[39m \u001b[38;5;66;03m# 그래프 빌드\u001b[39;00m\n\u001b[32m---> \u001b[39m\u001b[32m21\u001b[39m app = \u001b[43mbuild_workflow\u001b[49m()\n\u001b[32m     23\u001b[39m \u001b[38;5;66;03m# 노드 목록\u001b[39;00m\n\u001b[32m     24\u001b[39m \u001b[38;5;28mprint\u001b[39m(\u001b[33m\"\u001b[39m\u001b[38;5;130;01m\\n\u001b[39;00m\u001b[33m[노드 목록]\u001b[39m\u001b[33m\"\u001b[39m)\n",
      "\u001b[31mNameError\u001b[39m: name 'build_workflow' is not defined"
     ]
    }
   ],
   "source": [
    "\"\"\"\n",
    "그래프 구조 시각화 - compile() 결과만 확인\n",
    "\"\"\"\n",
    "import os\n",
    "os.environ['GRPC_VERBOSITY'] = 'ERROR'\n",
    "os.environ['GLOG_minloglevel'] = '2'\n",
    "\n",
    "import warnings\n",
    "warnings.filterwarnings('ignore')\n",
    "\n",
    "# from marketing_multiagent_system import build_workflow\n",
    "\n",
    "def visualize_graph_structure():\n",
    "    \"\"\"컴파일된 그래프 구조만 출력\"\"\"\n",
    "\n",
    "    print(\"=\" * 60)\n",
    "    print(\"📊 그래프 컴파일 결과\")\n",
    "    print(\"=\" * 60)\n",
    "\n",
    "    # 그래프 빌드\n",
    "    app = build_workflow()\n",
    "\n",
    "    # 노드 목록\n",
    "    print(\"\\n[노드 목록]\")\n",
    "    if hasattr(app, 'nodes'):\n",
    "        for i, node_name in enumerate(app.nodes.keys(), 1):\n",
    "            print(f\"  {i}. {node_name}\")\n",
    "\n",
    "    # 엣지 목록\n",
    "    print(\"\\n[엣지 목록]\")\n",
    "    if hasattr(app, 'edges'):\n",
    "        for edge in app.edges:\n",
    "            print(f\"  {edge}\")\n",
    "\n",
    "    # 그래프 정보\n",
    "    print(\"\\n[그래프 정보]\")\n",
    "    print(f\"  - 총 노드 수: {len(app.nodes) if hasattr(app, 'nodes') else 'N/A'}\")\n",
    "    print(f\"  - 엔트리 포인트: {app._compiled_graph.entry_point if hasattr(app, '_compiled_graph') else 'START'}\")\n",
    "\n",
    "    # Mermaid 다이어그램 (선택사항)\n",
    "    try:\n",
    "        print(\"\\n[Mermaid 다이어그램]\")\n",
    "        mermaid = app.get_graph().draw_mermaid()\n",
    "        print(mermaid)\n",
    "    except Exception as e:\n",
    "        print(f\"  Mermaid 생성 실패: {e}\")\n",
    "\n",
    "    print(\"\\n\" + \"=\" * 60)\n",
    "    print(\"✅ 그래프 구조 확인 완료\")\n",
    "    print(\"=\" * 60)\n",
    "\n",
    "if __name__ == \"__main__\":\n",
    "    visualize_graph_structure()\n"
   ]
  },
  {
   "cell_type": "code",
   "execution_count": null,
   "id": "b99000d6",
   "metadata": {},
   "outputs": [],
   "source": []
  }
 ],
 "metadata": {
  "kernelspec": {
   "display_name": "bigcon",
   "language": "python",
   "name": "python3"
  },
  "language_info": {
   "codemirror_mode": {
    "name": "ipython",
    "version": 3
   },
   "file_extension": ".py",
   "mimetype": "text/x-python",
   "name": "python",
   "nbconvert_exporter": "python",
   "pygments_lexer": "ipython3",
   "version": "3.12.11"
  }
 },
 "nbformat": 4,
 "nbformat_minor": 5
}
